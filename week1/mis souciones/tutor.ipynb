{
 "cells": [
  {
   "cell_type": "markdown",
   "id": "fe12c203-e6a6-452c-a655-afb8a03a4ff5",
   "metadata": {},
   "source": [
    "# Ejercicio final de la semana 1\n",
    "\n",
    "Para demostrar que estás familiarizado con la API de OpenAI y también con Ollama, crea una herramienta que responda a una pregunta técnica\n",
    "y la explique. ¡Esta es una herramienta que podrás usar durante el curso!"
   ]
  },
  {
   "cell_type": "code",
   "execution_count": 2,
   "id": "c1070317-3ed9-4659-abe3-828943230e03",
   "metadata": {},
   "outputs": [],
   "source": [
    "# imports\n",
    "from IPython.display import Markdown, display, update_display\n",
    "from openai import OpenAI\n",
    "from dotenv import load_dotenv\n",
    "import os\n",
    "\n",
    "# constantes\n",
    "\n",
    "MODEL_GPT = 'gpt-4o-mini'\n",
    "MODEL_LLAMA = 'llama3.2'\n",
    "\n",
    "\n",
    "# Configura el entorno\n",
    "# Cargamos las variables del fichero .env\n",
    "load_dotenv()\n",
    "api_key = os.getenv('OPENAI_API_KEY')\n",
    "\n",
    "openai = OpenAI()\n",
    "\n",
    "system_prompt=\"Eres un experto programador en Python 3.12 y vas a responderme todas las dudas que tenga con respcecto \\\n",
    "a fragmentos de código que te de, así como explicarme el código en cuestión. \\\n",
    "tambien me explicaras terminos que no entienda de la programación\"\n",
    "\n",
    "def obtain_user_prompt():\n",
    "    user_question = [] \n",
    "    line = input(\"Introduce un prompt que termine con una línea vacía: \")\n",
    "    while line:\n",
    "        user_question.append(line)\n",
    "        line = input() \n",
    "\n",
    "    user_question = \"\\n\".join(user_question)\n",
    "    return user_question\n",
    "\n",
    "\n",
    "# Haz que gpt-4o-mini responda, con streaming\n",
    "def stream_response():\n",
    "    stream = openai.chat.completions.create(\n",
    "        model=MODEL_GPT,\n",
    "        messages=[\n",
    "            {\"role\": \"system\", \"content\": system_prompt},\n",
    "            {\"role\": \"user\", \"content\": obtain_user_prompt()}\n",
    "          ],\n",
    "        stream=True\n",
    "    )\n",
    "    \n",
    "    response = \"\"\n",
    "    display_handle = display(Markdown(\"\"), display_id=True)\n",
    "    for chunk in stream:\n",
    "        response += chunk.choices[0].delta.content or ''\n",
    "        response = response.replace(\"```\",\"\").replace(\"markdown\", \"\")\n",
    "        update_display(Markdown(response), display_id=display_handle.display_id)\n"
   ]
  },
  {
   "cell_type": "code",
   "execution_count": 3,
   "id": "e0dc1c82-617d-49b5-860e-1ecd585f6f3b",
   "metadata": {},
   "outputs": [
    {
     "name": "stdin",
     "output_type": "stream",
     "text": [
      "Introduce un prompt que termine con una línea vacía:  Explica qué hace este código y por qué:\n",
      " yield from {book.get(\"author\") for book in books if book.get(\"author\")}\n",
      " \n"
     ]
    },
    {
     "data": {
      "text/markdown": [
       "Claro, vamos a descomponer y explicar el fragmento de código que has proporcionado:\n",
       "\n",
       "python\n",
       "yield from {book.get(\"author\") for book in books if book.get(\"author\")}\n",
       "\n",
       "\n",
       "### Desglose del código\n",
       "\n",
       "1. **Comprensión de conjunto (`set comprehension`)**:\n",
       "   - `{book.get(\"author\") for book in books if book.get(\"author\")}` es una comprensión de conjunto que itera sobre una colección llamada `books`.\n",
       "   - Aquí, `book` representa cada elemento (que se espera que sea un diccionario u objeto similar) en la colección `books`.\n",
       "   - `book.get(\"author\")` obtiene el valor asociado a la clave `\"author\"` de cada `book`. Si la clave `\"author\"` no existe, `get` devolverá `None` en lugar de generar una excepción o error.\n",
       "   - `if book.get(\"author\")` actúa como un filtro que asegura que sólo los `authors` que existen y no son `None` se incluyan en el conjunto resultante.\n",
       "\n",
       "2. **Uso de `yield from`**:\n",
       "   - `yield from` es una forma de delegar la generación de valores a otro generador o iterable. En este caso, el conjunto generado por la comprensión (`{...}`) se está pasando a `yield from`.\n",
       "   - Esto significa que definimos un generador que produce cada uno de los elementos del conjunto resultante de autores (únicos) extraídos de los libros.\n",
       "\n",
       "### Resumen de lo que hace el código\n",
       "\n",
       "- El código primero crea un conjunto de nombres de autores (`{author1, author2, ...}`) a partir de la lista `books`.\n",
       "- Solo se incluyen aquellos autores que están presentes (es decir, que no son `None`).\n",
       "- Luego, se usa `yield from` para devolver uno por uno cada uno de estos autores como parte de un generador.\n",
       "\n",
       "### ¿Por qué se usa este código?\n",
       "\n",
       "- **Eliminación de duplicados**: Usar un conjunto (`set`) automáticamente elimina cualquier autor duplicado, lo que significa que cada autor solo aparecerá una vez en el resultado.\n",
       "- **Generador eficiente**: `yield from` permite producir los resultados uno a uno, lo que es eficiente en términos de memoria, especialmente si la lista de `books` es grande.\n",
       "\n",
       "### Ejemplo de uso\n",
       "\n",
       "Supongamos que tenemos el siguiente código en un generador:\n",
       "\n",
       "python\n",
       "def generate_authors(books):\n",
       "    yield from {book.get(\"author\") for book in books if book.get(\"author\")}\n",
       "\n",
       "# Ejemplo de uso\n",
       "books = [\n",
       "    {\"author\": \"Author A\"},\n",
       "    {\"author\": \"Author B\"},\n",
       "    {\"author\": \"Author A\"},\n",
       "    {\"author\": None},\n",
       "    {\"title\": \"Book C\"},\n",
       "]\n",
       "\n",
       "for author in generate_authors(books):\n",
       "    print(author)\n",
       "\n",
       "\n",
       "**Salida del ejemplo**:\n",
       "\n",
       "Author B\n",
       "Author A\n",
       "\n",
       "\n",
       "Como puedes ver, `Author A` solo aparece una vez en la salida, aunque estaba presente dos veces en la lista `books`. El `None` y el libro sin autor son ignorados.\n",
       "\n",
       "\n",
       "Si tienes alguna pregunta adicional, no dudes en preguntar."
      ],
      "text/plain": [
       "<IPython.core.display.Markdown object>"
      ]
     },
     "metadata": {},
     "output_type": "display_data"
    }
   ],
   "source": [
    "stream_response()"
   ]
  },
  {
   "cell_type": "code",
   "execution_count": 4,
   "id": "3f0d0137-52b0-47a8-81a8-11a90a010798",
   "metadata": {},
   "outputs": [],
   "source": [
    "# Aquí está la pregunta; escribe sobre esto para preguntar algo nuevo\n",
    "\n",
    "question = \"\"\"\n",
    "Explica qué hace este código y por qué:\n",
    "yield from {book.get(\"author\") for book in books if book.get(\"author\")}\n",
    "\"\"\""
   ]
  },
  {
   "cell_type": "code",
   "execution_count": 5,
   "id": "8f7c8ea8-4082-4ad0-8751-3301adcf6538",
   "metadata": {},
   "outputs": [],
   "source": [
    "# imports\n",
    "from IPython.display import Markdown, display, update_display\n",
    "import requests\n",
    "\n",
    "# constantes\n",
    "\n",
    "MODEL_LLAMA = 'llama3.2'\n",
    "OLLAMA_API = \"http://localhost:11434/api/chat\"\n",
    "HEADERS = {\"Content-Type\": \"application/json\"}\n",
    "\n",
    "\n",
    "def obtain_user_prompt():\n",
    "    user_question = [] \n",
    "    line = input(\"Introduce un prompt que termine con una línea vacía: \")\n",
    "    while line:\n",
    "        user_question.append(line)\n",
    "        line = input() \n",
    "\n",
    "    user_question = \"\\n\".join(user_question)\n",
    "    return user_question\n",
    "\n",
    "\n",
    "# Haz que Llama 3.2 responda\n",
    "def llama_tutor():\n",
    "\n",
    "    messages=[{\"role\": \"user\", \"content\": obtain_user_prompt()}]\n",
    "    payload = {\n",
    "        \"model\": MODEL_LLAMA,\n",
    "        \"messages\": messages,\n",
    "        \"stream\": False\n",
    "    }\n",
    "    \n",
    "    response = requests.post(OLLAMA_API, json=payload, headers=HEADERS)\n",
    "    print(response.json()['message']['content'])"
   ]
  },
  {
   "cell_type": "code",
   "execution_count": 6,
   "id": "2c5fde55-ed89-4885-bffb-94a8f6f78a37",
   "metadata": {},
   "outputs": [
    {
     "name": "stdin",
     "output_type": "stream",
     "text": [
      "Introduce un prompt que termine con una línea vacía:  Explica qué hace este código y por qué:\n",
      " yield from {book.get(\"author\") for book in books if book.get(\"author\")}\n",
      " \n"
     ]
    },
    {
     "name": "stdout",
     "output_type": "stream",
     "text": [
      "Este código utiliza un concepto llamado \"generador\" en Python, que es una función especializada para producir un valor de manera iterativa. En este caso, el código está utilizando la cláusula `yield from` y la función `get()`.\n",
      "\n",
      "**Estructura**\n",
      "\n",
      "```python\n",
      "yield from {book.get(\"author\") for book in books if book.get(\"author\")}\n",
      "```\n",
      "\n",
      "**Componentes**\n",
      "\n",
      "1. `{book.get(\"author\") for book in books if book.get(\"author\")}`: Esta es una expresión de generación, que utiliza un patron `for` para iterar sobre los elementos del conjunto (`books`). La condición `if book.get(\"author\")` filtra los elementos que no tienen el atributo `\"author\"` asociado.\n",
      "2. `yield from`: Esta palabra clave indica que la función es un generador. Cuando se llama a una función con `yield from`, su comportamiento se cambia para que produzca valores de manera iterativa.\n",
      "\n",
      "**Cómo funciona**\n",
      "\n",
      "Cuando se ejecuta este código, aquí está lo que sucede:\n",
      "\n",
      "1. La expresión `{book.get(\"author\") for book in books if book.get(\"author\")}` crea un generador que itera sobre los elementos del conjunto (`books`) y produce los valores asociados con el atributo `\"author\"`.\n",
      "2. El generador se pasa al método `yield from`, que lo convierte en un generador de generadores.\n",
      "3. Cuando se llama a la función, el generador de generadores comienza a producir valores. En cada iteración del ciclo, produce los valores asociados con el atributo `\"author\"` para cada libro del conjunto (`books`).\n",
      "4. Cada valor producido es una iteración sobre un conjunto (`{book.get(\"author\")}`), lo que significa que se itera sobre cada valor y se convierte en un generador por sí mismo.\n",
      "5. El resultado final es un generador de valores, donde cada valor es un valor asociado con el atributo `\"author\"` para un libro del conjunto.\n",
      "\n",
      "**Por qué**\n",
      "\n",
      "El uso de `yield from` permite evitar crear una lista intermedia y producir los valores de manera iterativa. Esto tiene varias ventajas:\n",
      "\n",
      "*   Memoria eficiente: al no necesitar almacenar todos los valores en una lista, se reduce la memoria utilizada.\n",
      "*   Flexibilidad: se puede manejar el consumo de datos sin necesidad de almacenarlos en una variable o lista intermedios.\n",
      "*   Eficiencia: se evita la creación de listas temporales y se utiliza el método iterativo.\n",
      "\n",
      "En resumen, este código utiliza un generador para producir los valores asociados con el atributo `\"author\"` para cada libro del conjunto (`books`) en una forma eficiente y flexible.\n"
     ]
    }
   ],
   "source": [
    "llama_tutor()"
   ]
  },
  {
   "cell_type": "code",
   "execution_count": null,
   "id": "46096b84-4863-48bc-bbae-ab7eee600fe5",
   "metadata": {},
   "outputs": [],
   "source": []
  }
 ],
 "metadata": {
  "kernelspec": {
   "display_name": "Python 3 (ipykernel)",
   "language": "python",
   "name": "python3"
  },
  "language_info": {
   "codemirror_mode": {
    "name": "ipython",
    "version": 3
   },
   "file_extension": ".py",
   "mimetype": "text/x-python",
   "name": "python",
   "nbconvert_exporter": "python",
   "pygments_lexer": "ipython3",
   "version": "3.11.11"
  }
 },
 "nbformat": 4,
 "nbformat_minor": 5
}
