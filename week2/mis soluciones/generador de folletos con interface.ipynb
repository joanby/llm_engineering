{
 "cells": [
  {
   "cell_type": "code",
   "execution_count": 1,
   "id": "d64d7054-201b-4933-8c1e-1136524a746a",
   "metadata": {},
   "outputs": [
    {
     "name": "stdout",
     "output_type": "stream",
     "text": [
      "OpenAI API Key existe y empieza por sk-proj-\n",
      "Anthropic API Key existe y empieza por sk-ant-\n",
      "Google API Key existe y empieza por AIzaSyCI\n"
     ]
    }
   ],
   "source": [
    "# imports\n",
    "\n",
    "import os\n",
    "import requests\n",
    "from bs4 import BeautifulSoup\n",
    "from typing import List\n",
    "from dotenv import load_dotenv\n",
    "from openai import OpenAI\n",
    "import google.generativeai\n",
    "import anthropic\n",
    "import gradio as gr\n",
    "\n",
    "load_dotenv()\n",
    "openai_api_key = os.getenv('OPENAI_API_KEY')\n",
    "anthropic_api_key = os.getenv('ANTHROPIC_API_KEY')\n",
    "google_api_key = os.getenv('GOOGLE_API_KEY')\n",
    "\n",
    "\n",
    "if openai_api_key:\n",
    "    print(f\"OpenAI API Key existe y empieza por {openai_api_key[:8]}\")\n",
    "else:\n",
    "    print(\"OpenAI API Key Sin Configurar\")\n",
    "    \n",
    "if anthropic_api_key:\n",
    "    print(f\"Anthropic API Key existe y empieza por {anthropic_api_key[:7]}\")\n",
    "else:\n",
    "    print(\"Anthropic API Key Sin Configurar\")\n",
    "\n",
    "if google_api_key:\n",
    "    print(f\"Google API Key existe y empieza por {google_api_key[:8]}\")\n",
    "else:\n",
    "    print(\"Google API Key Sin Configurar\")\n",
    "\n",
    "\n",
    "# Conéctese a OpenAI, Anthropic y Google; comente las líneas de Claude o Google si no las está usando\n",
    "\n",
    "openai = OpenAI()\n",
    "\n",
    "claude = anthropic.Anthropic()\n",
    "\n",
    "google.generativeai.configure()\n",
    "\n",
    "\n",
    "def stream_gpt(prompt, system_message):\n",
    "    messages = [\n",
    "        {\"role\": \"system\", \"content\": system_message},\n",
    "        {\"role\": \"user\", \"content\": prompt}\n",
    "      ]\n",
    "    stream = openai.chat.completions.create(\n",
    "        model='gpt-4o-mini',\n",
    "        messages=messages,\n",
    "        stream=True\n",
    "    )\n",
    "    result = \"\"\n",
    "    for chunk in stream:\n",
    "        result += chunk.choices[0].delta.content or \"\"\n",
    "        yield result\n",
    "\n",
    "def stream_claude(prompt, system_message):\n",
    "    result = claude.messages.stream(\n",
    "        model=\"claude-3-haiku-20240307\",\n",
    "        max_tokens=1000,\n",
    "        temperature=0.7,\n",
    "        system=system_message,\n",
    "        messages=[\n",
    "            {\"role\": \"user\", \"content\": prompt},\n",
    "        ],\n",
    "    )\n",
    "    response = \"\"\n",
    "    with result as stream:\n",
    "        for text in stream.text_stream:\n",
    "            response += text or \"\"\n",
    "            yield response\n",
    "\n",
    "def stream_gemini(prompt, system_message):\n",
    "    result = google.generativeai.GenerativeModel(\n",
    "        model_name=\"gemini-1.5-flash\",\n",
    "        system_instruction=system_message\n",
    "    )\n",
    "    messages=[\n",
    "            {\"role\": \"user\", \"parts\": prompt}]\n",
    "    response = \"\"\n",
    "    stream = result.generate_content(messages, stream=True)\n",
    "    for chunk in stream:\n",
    "        response += chunk.text or \"\"\n",
    "        yield response\n",
    "\n",
    "# Una clase para representar una página web\n",
    "\n",
    "class Website:\n",
    "    url: str\n",
    "    title: str\n",
    "    text: str\n",
    "\n",
    "    def __init__(self, url):\n",
    "        self.url = url\n",
    "        response = requests.get(url)\n",
    "        self.body = response.content\n",
    "        soup = BeautifulSoup(self.body, 'html.parser')\n",
    "        self.title = soup.title.string if soup.title else \"No se ha encontrado título de la página\"\n",
    "        for irrelevant in soup.body([\"script\", \"style\", \"img\", \"input\"]):\n",
    "            irrelevant.decompose()\n",
    "        self.text = soup.body.get_text(separator=\"\\n\", strip=True)\n",
    "\n",
    "    def get_contents(self):\n",
    "        return f\"Título de la Web:\\n{self.title}\\nContenido de la Web:\\n{self.text}\\n\\n\"\n",
    "\n",
    "\n",
    "\n",
    "def stream_brochure(company_name, url, tone, model):\n",
    "    prompt = f\"Genera un folleto de la empresa {company_name}. Esta es su página de destino:\\n\"    \n",
    "    prompt += Website(url).get_contents()\n",
    "\n",
    "    system_message = \"Eres un asistente que analiza el contenido de la página de inicio \\\n",
    "del sitio web de una empresa y crea un folleto breve sobre la empresa para posibles clientes, inversores y nuevos empleados.\"\n",
    "\n",
    "    if tone == \"Divertido\":\n",
    "        system_message += \" Responde en formato Markdown de una manera divertida usando emojies.\"\n",
    "    elif tone == \"Jovial\":\n",
    "        system_message += \" Responde en formato Markdown de una manera jovial usando emojies.\"\n",
    "    elif tone == \"Serio\":\n",
    "        system_message += \" Responde en formato Markdown de una manera seria.\"\n",
    "    elif tone == \"Curioso\":\n",
    "        system_message += \" Responde en formato Markdown de una manera curiosa usando emojies.\"\n",
    "\n",
    "    if model==\"GPT\":\n",
    "        result = stream_gpt(prompt,system_message)\n",
    "    elif model==\"Claude\":\n",
    "        result = stream_claude(prompt, system_message)\n",
    "    elif model == \"Gemini\":\n",
    "        result = stream_gemini(prompt, system_message)\n",
    "    else:\n",
    "        raise ValueError(\"Modelo Desconocido\")\n",
    "    yield from result\n",
    "    "
   ]
  },
  {
   "cell_type": "code",
   "execution_count": 2,
   "id": "8e813ae5-aedf-4344-940d-470118e59290",
   "metadata": {},
   "outputs": [
    {
     "name": "stdout",
     "output_type": "stream",
     "text": [
      "* Running on local URL:  http://127.0.0.1:7860\n",
      "\n",
      "To create a public link, set `share=True` in `launch()`.\n"
     ]
    },
    {
     "data": {
      "text/html": [
       "<div><iframe src=\"http://127.0.0.1:7860/\" width=\"100%\" height=\"500\" allow=\"autoplay; camera; microphone; clipboard-read; clipboard-write;\" frameborder=\"0\" allowfullscreen></iframe></div>"
      ],
      "text/plain": [
       "<IPython.core.display.HTML object>"
      ]
     },
     "metadata": {},
     "output_type": "display_data"
    },
    {
     "data": {
      "text/plain": []
     },
     "execution_count": 2,
     "metadata": {},
     "output_type": "execute_result"
    }
   ],
   "source": [
    "view = gr.Interface(\n",
    "    fn=stream_brochure,\n",
    "    inputs=[\n",
    "        gr.Textbox(label=\"Nombre de la Empresa:\"),\n",
    "        gr.Textbox(label=\"Landing page, recuerda incluir http:// o https://\"),\n",
    "        gr.Dropdown([\"Divertido\",\"Jovial\",\"Serio\",\"Curioso\"], label=\"Selecciona el tono\"),\n",
    "        gr.Dropdown([\"GPT\", \"Claude\", \"Gemini\"], label=\"Selecciona un modelo\")],\n",
    "    outputs=[gr.Markdown(label=\"Folleto:\")],\n",
    "    flagging_mode=\"never\"\n",
    ")\n",
    "view.launch()"
   ]
  },
  {
   "cell_type": "code",
   "execution_count": null,
   "id": "d0baa559-d377-45c1-9326-ef359cd0d028",
   "metadata": {},
   "outputs": [],
   "source": []
  }
 ],
 "metadata": {
  "kernelspec": {
   "display_name": "Python 3 (ipykernel)",
   "language": "python",
   "name": "python3"
  },
  "language_info": {
   "codemirror_mode": {
    "name": "ipython",
    "version": 3
   },
   "file_extension": ".py",
   "mimetype": "text/x-python",
   "name": "python",
   "nbconvert_exporter": "python",
   "pygments_lexer": "ipython3",
   "version": "3.11.11"
  }
 },
 "nbformat": 4,
 "nbformat_minor": 5
}
