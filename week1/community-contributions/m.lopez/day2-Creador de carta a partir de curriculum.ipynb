{
 "cells": [
  {
   "cell_type": "markdown",
   "id": "e10f6ba6-74a5-4e8e-9183-8142deead807",
   "metadata": {},
   "source": [
    "Leer el contenido de un curriculum PDF y crear un curriculum con el formato de Harvard"
   ]
  },
  {
   "cell_type": "code",
   "execution_count": 24,
   "id": "a3cb6fa1-5ad8-44a8-8059-c191a96d9481",
   "metadata": {},
   "outputs": [],
   "source": [
    "import ollama\n",
    "import requests\n",
    "import os\n",
    "import PyPDF2\n",
    "from IPython.display import Markdown, display\n",
    "from dotenv import load_dotenv"
   ]
  },
  {
   "cell_type": "code",
   "execution_count": 25,
   "id": "e3be389b-3a8b-48fe-ad62-61bad2867afa",
   "metadata": {},
   "outputs": [],
   "source": [
    "MODEL = \"llama3.2\"\n",
    "# Cargamos las variables del fichero .env\n",
    "\n",
    "load_dotenv()\n",
    "curriculum_path = os.getenv('PDF_PATH')"
   ]
  },
  {
   "cell_type": "code",
   "execution_count": 26,
   "id": "e1dcf7a9-522d-47c5-bb8e-5f13b3fafcc3",
   "metadata": {},
   "outputs": [],
   "source": [
    "def read_pdf(file_path):\n",
    "    \"\"\"\n",
    "    Lee el contenido de un archivo PDF y lo devuelve como una cadena de texto,\n",
    "    respetando los saltos de línea.\n",
    "\n",
    "    Args:\n",
    "        file_path: La ruta al archivo PDF.\n",
    "\n",
    "    Returns:\n",
    "        Una cadena con el contenido del PDF o None si hay un error.\n",
    "        Imprime un mensaje de error en caso de fallo.\n",
    "    \"\"\"\n",
    "    try:\n",
    "        with open(file_path, 'rb') as pdf_file:  # Abre el archivo en modo binario de lectura\n",
    "            lector_pdf = PyPDF2.PdfReader(pdf_file)\n",
    "            num_pages = len(lector_pdf.pages)\n",
    "            complete_text = \"\"\n",
    "\n",
    "            for num_page in range(num_pages):\n",
    "                page = lector_pdf.pages[num_page]\n",
    "                page_text = page.extract_text()\n",
    "                complete_text += page_text + \"\\n\"  # Añade un salto de línea después de cada página\n",
    "\n",
    "            return complete_text\n",
    "\n",
    "    except FileNotFoundError:\n",
    "        print(f\"Error: Archivo no encontrado en la ruta: {file_path}\")\n",
    "        return None\n",
    "    except PyPDF2.errors.PdfReadError: #Captura errores de PyPDF2\n",
    "        print(f\"Error: No se pudo leer el archivo PDF. Podría estar corrupto o no ser un PDF válido: {file_path}\")\n",
    "        return None\n",
    "    except Exception as e:\n",
    "        print(f\"Ocurrió un error inesperado: {e}\")\n",
    "        return None\n"
   ]
  },
  {
   "cell_type": "code",
   "execution_count": 27,
   "id": "6769d30a-d3c0-468b-9b96-3440ede86554",
   "metadata": {},
   "outputs": [],
   "source": [
    "class Curriculum:\n",
    "    \"\"\"\n",
    "    Una clase de utilidad para representar un curriculum que hemos leído\n",
    "    \"\"\"\n",
    "\n",
    "    def __init__(self, file_path):\n",
    "        \"\"\"\n",
    "        Crea este objeto de Curriculum\n",
    "        \"\"\"\n",
    "        self.file_path = file_path\n",
    "        response = read_pdf(file_path)\n",
    "        self.text = response"
   ]
  },
  {
   "cell_type": "code",
   "execution_count": 28,
   "id": "d1b288e4-8495-4e1a-8c28-768aca498eaf",
   "metadata": {},
   "outputs": [],
   "source": [
    "# Vamos a probar\n",
    "\n",
    "# Una función que escribe un mensaje de usuario que solicita cartas de presentación de un curriculum:\n",
    "\n",
    "def user_prompt_for(curriculum):\n",
    "    user_prompt = f\"Estás viendo el archivo PDF {curriculum.file_path}\"\n",
    "    user_prompt += \"\\nEl contenido de este curriculum es el siguiente; \\\n",
    "    genera una curriculum con el formato de Harvard a partir de la infomación contenida, \\\n",
    "    reliza los cambios necesarios en la redacción para que sea un curriculum que impacte \\\n",
    "    y sirva para obtener un buen trabajo y despliegalo en formato Markdown.\\n\\n\"\n",
    "    user_prompt += curriculum.text\n",
    "    return user_prompt"
   ]
  },
  {
   "cell_type": "code",
   "execution_count": 29,
   "id": "ebbb1a7e-3485-4817-9d49-328f0f1969fb",
   "metadata": {},
   "outputs": [],
   "source": [
    "def messages_for(curriculum):\n",
    "    return [\n",
    "        {\"role\": \"user\", \"content\": user_prompt_for(curriculum)}\n",
    "    ]"
   ]
  },
  {
   "cell_type": "code",
   "execution_count": 30,
   "id": "7eebd038-f481-4dd1-821d-0f5059af946f",
   "metadata": {},
   "outputs": [],
   "source": [
    "def create_harvard(file_path):\n",
    "    curriculum = Curriculum(file_path)\n",
    "    response = ollama.chat(model=MODEL, messages=messages_for(curriculum))\n",
    "    return response['message']['content']"
   ]
  },
  {
   "cell_type": "code",
   "execution_count": 31,
   "id": "afba60f0-2ddf-46d7-8a58-b090ddc94bfc",
   "metadata": {},
   "outputs": [],
   "source": [
    "def display_curriculum(file_path):\n",
    "    letter = create_harvard(file_path)\n",
    "    display(Markdown(letter))"
   ]
  },
  {
   "cell_type": "code",
   "execution_count": 33,
   "id": "1dc12dd3-416b-4367-922f-851af71bb920",
   "metadata": {},
   "outputs": [
    {
     "data": {
      "text/markdown": [
       "A continuación, te presento el curriculum formatado en formato Harvard:\n",
       "\n",
       "**Miguel Ángel López Monroy**\n",
       "\n",
       "**Desarrollador Python**\n",
       "\n",
       "Ciudad de México, CP 09720\n",
       "\n",
       " Teléfono: +1 (052) 5536343-9133\n",
       "\n",
       " Correo electrónico: [miguel.lopezm.de.v@gmail.com](mailto:miguel.lopezm.de.v@gmail.com)\n",
       "\n",
       " Sitio web personal: https://portfolio-aqua-ocean.reflex.run/\n",
       "\n",
       "**Sueldo deseado:** 20,000 mensuales netos\n",
       "\n",
       "**Perfil**\n",
       "\n",
       "* Desarrollador de software con experiencia en Python y Django\n",
       "* Experto en Rest API y servicios de la nube AWS\n",
       "* Habilidades en Scrapy, Selenium, PostgrésQL, MySQL y Queries\n",
       "* Certificado en Cloud Practitioner AWS (2023)\n",
       "\n",
       "**Habilidades**\n",
       "\n",
       "* Lenguajes de programación: Python, Django\n",
       "* Tecnologías de servicios de la nube:\n",
       " + EC2\n",
       " + S3\n",
       " + IAM\n",
       " + VPC\n",
       " + Lambda\n",
       " + RDS\n",
       " + EVentbridge\n",
       "* Frameworks y bibliotecas:\n",
       " + Django Rest Framework\n",
       " + FastAPI\n",
       " + Flask\n",
       "* Web scraping: Scrapy, Selenium\n",
       "* Bases de datos: PostgrésQL, MySQL, Queries\n",
       "* Servicios de AWS:\n",
       " + CloudFormation\n",
       " + Route 53\n",
       "\n",
       "**Experiencia**\n",
       "\n",
       "* **Desarrollador Back-end**, El Buen Conejo (Colima, México)\n",
       " + Desarrollo del back-end de la plataforma de administración de granchas de conejos en México\n",
       " + Implementación de Django Rest Framework y FastAPI\n",
       " + Despliegue de la API originalmente en AWS, posteriormente cambiado a Railgun\n",
       "* **Desarrollador Back-end**, No-Country (Online)\n",
       " + Aprendizaje de trabajos en equipos multidisciplinarios y multi-región\n",
       " + Desarrollo de una API en FastAPI con Python para la aplicación de busqueda y adopción de mascotas\n",
       " + Implementación de servicios de AWS como Lambda, DynamoDB y Step Functions\n",
       "* **Cloud Developer**, Bootcamp Institute (Mayo - Julio 2023)\n",
       " + Aprendizaje de las tecnologías Serverless de AWS como Lambda, DynamoDB y Step Functions\n",
       " + Implementación de AWS EVentbridge y Amazon Cognito\n",
       "* **Ingeniero en Computación**, Universidad Nacional Autónoma de México (1991-1995)\n",
       "\n",
       "**Educación**\n",
       "\n",
       "* **Bootcamp Institute**: Cloud Developer (Mayo - Julio 2023)\n",
       " + Aprendizaje de las tecnologías Serverless de AWS como Lambda, DynamoDB y Step Functions\n",
       " + Implementación de AWS EVentbridge y Amazon Cognito\n",
       "* **Bootcamp Institute**: Restar T (Febrero - Mayo 2023)\n",
       " + Aprendizaje de los servicios básicos de AWS en las áreas de cómputo, almacenamiento y redes\n",
       " + Implementación de EC2, S3, IAM, VPC, Lambda, CloudFormation y RDS\n",
       "* **Universidad Nacional Autónoma de México**: Ingeniero en Computación (1991-1995)\n",
       "\n",
       "**Certificaciones**\n",
       "\n",
       "* **AWS Certified Cloud Practitioner** (2023)\n",
       " + Certificado en Cloud Practitioner AWS\n",
       "\n",
       "**Idiomas**\n",
       "\n",
       "* Inglés\n",
       "\n",
       "Espero que este formato te sea útil. Recuerda que es importante personalizar y adaptar el contenido a tus necesidades y objetivos laborales. ¡Buena suerte!"
      ],
      "text/plain": [
       "<IPython.core.display.Markdown object>"
      ]
     },
     "metadata": {},
     "output_type": "display_data"
    }
   ],
   "source": [
    "display_curriculum(curriculum_path)"
   ]
  },
  {
   "cell_type": "code",
   "execution_count": null,
   "id": "4574af3c-620c-4a9b-a9d6-0c4094b132cd",
   "metadata": {},
   "outputs": [],
   "source": []
  }
 ],
 "metadata": {
  "kernelspec": {
   "display_name": "Python 3 (ipykernel)",
   "language": "python",
   "name": "python3"
  },
  "language_info": {
   "codemirror_mode": {
    "name": "ipython",
    "version": 3
   },
   "file_extension": ".py",
   "mimetype": "text/x-python",
   "name": "python",
   "nbconvert_exporter": "python",
   "pygments_lexer": "ipython3",
   "version": "3.11.11"
  }
 },
 "nbformat": 4,
 "nbformat_minor": 5
}
