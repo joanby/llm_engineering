{
 "cells": [
  {
   "cell_type": "markdown",
   "id": "a0988d32-2e81-4cb9-ac0c-3ebdf15bedc8",
   "metadata": {},
   "source": [
    "Esta solución hace un resumen de los correos electrónicos de una cuenta de Gmail no leídos y los marca como leidos una vez que hace el resumen.\n",
    "Para ello se necesita crear una cuenta en la Consola de Google Cloud con el correo que se va a usar para leer los correos.\n",
    "Se crea un proyecto en la Consola de Google Cloud y se habilita la API de Gmail\n",
    "Se generan credenciales OAuth 2.0 y se descarga un archivo de credenciales llamado credentials.json\n",
    "Se instalan las bibliotecas necesarias en tu ambiente virtual de conda o de ven usando el siguiente comando:\n"
   ]
  },
  {
   "cell_type": "markdown",
   "id": "36e73ef3-9f19-4ff9-a072-118cbde0563e",
   "metadata": {},
   "source": [
    "pip install google-auth google-auth-oauthlib google-auth-httplib2 google-api-python-client"
   ]
  },
  {
   "cell_type": "code",
   "execution_count": 4,
   "id": "4e2a9393-7767-488e-a8bf-27c12dca35bd",
   "metadata": {},
   "outputs": [],
   "source": [
    "# imports\n",
    "\n",
    "import base64\n",
    "import os\n",
    "\n",
    "from bs4 import BeautifulSoup\n",
    "from dotenv import load_dotenv\n",
    "from google.auth.transport.requests import Request\n",
    "from google.oauth2.credentials import Credentials\n",
    "from google_auth_oauthlib.flow import InstalledAppFlow\n",
    "from googleapiclient.discovery import build\n",
    "from IPython.display import Markdown, display\n",
    "from openai import OpenAI\n"
   ]
  },
  {
   "cell_type": "code",
   "execution_count": 5,
   "id": "7b87cadb-d513-4303-baee-a37b6f938e4d",
   "metadata": {},
   "outputs": [
    {
     "name": "stdout",
     "output_type": "stream",
     "text": [
      "¡Se encontró la clave API y hasta ahora parece buena!\n"
     ]
    }
   ],
   "source": [
    "# Alcances necesarios para acceder a los correos\n",
    "SCOPES = [\"https://www.googleapis.com/auth/gmail.modify\"]\n",
    "\n",
    "# Cargamos las variables del fichero .env\n",
    "load_dotenv()\n",
    "api_key = os.getenv('OPENAI_API_KEY')\n",
    "email_account = os.getenv(\"EMAIL\")\n",
    "# Check the key\n",
    "\n",
    "if not api_key:\n",
    "    print(\"No se encontró ninguna clave API: diríjase al cuaderno de resolución de problemas en esta carpeta para identificarla y solucionarla.\")\n",
    "elif not api_key.startswith(\"sk-proj-\"):\n",
    "    print(\"Se encontró una clave API, pero no inicia sk-proj-; verifique que esté usando la clave correcta; consulte el cuaderno de resolución de problemas\")\n",
    "elif api_key.strip() != api_key:\n",
    "    print(\"Se encontró una clave API, pero parece que puede tener espacios o caracteres de tabulación al principio o al final; elimínelos; consulte el cuaderno de resolución de problemas\")\n",
    "else:\n",
    "    print(\"¡Se encontró la clave API y hasta ahora parece buena!\")\n"
   ]
  },
  {
   "cell_type": "code",
   "execution_count": 6,
   "id": "019974d9-f3ad-4a8a-b5f9-0a3719aea2d3",
   "metadata": {},
   "outputs": [],
   "source": [
    "openai = OpenAI()\n",
    "\n",
    "# Si esto no funciona, prueba con el menú Kernel >> Reiniciar Kernel y borrar las salidas de todas las celdas, luego ejecuta las celdas desde la parte superior de este cuaderno hacia abajo.\n",
    "# Si TODAVÍA no funciona (¡qué horror!), consulta el cuaderno de resolución de problemas o prueba la siguiente línea:\n",
    "# openai = OpenAI(api_key=\"your-key-here-starting-sk-proj-\")"
   ]
  },
  {
   "cell_type": "code",
   "execution_count": 7,
   "id": "789d42d2-60d5-478a-bd9c-dc1da057ca3f",
   "metadata": {},
   "outputs": [],
   "source": [
    "def authenticate_gmail():\n",
    "    \"\"\"Autentica al usuario con la API de Gmail y devuelve el servicio.\"\"\"\n",
    "    creds = None\n",
    "    # Archivo token.json almacena las credenciales de acceso\n",
    "    if os.path.exists(\"token.json\"):\n",
    "        creds = Credentials.from_authorized_user_file(\"token.json\", SCOPES)\n",
    "    # Si no hay credenciales válidas, inicia el flujo de autenticación\n",
    "    if not creds or not creds.valid:\n",
    "        if creds and creds.expired and creds.refresh_token:\n",
    "            creds.refresh(Request())\n",
    "        else:\n",
    "            flow = InstalledAppFlow.from_client_secrets_file(\"credentials.json\", SCOPES)\n",
    "            creds = flow.run_local_server(port=0)\n",
    "        # Guarda las credenciales para el futuro\n",
    "        with open(\"token.json\", \"w\") as token:\n",
    "            token.write(creds.to_json())\n",
    "    return build(\"gmail\", \"v1\", credentials=creds)"
   ]
  },
  {
   "cell_type": "code",
   "execution_count": 8,
   "id": "8c341df0-39a1-460a-a011-ba782103456f",
   "metadata": {},
   "outputs": [],
   "source": [
    "def get_unread_emails(service):\n",
    "    \"\"\"Obtiene todos los correos no leídos.\"\"\"\n",
    "    results = (\n",
    "        service.users()\n",
    "        .messages()\n",
    "        .list(userId=\"me\", labelIds=[\"INBOX\"], q=\"is:unread\")\n",
    "        .execute()\n",
    "    )\n",
    "    messages = results.get(\"messages\", [])\n",
    "\n",
    "    email_content = []\n",
    "\n",
    "    if not messages:\n",
    "        print(\"No hay correos no leídos.\")\n",
    "        return None\n",
    "\n",
    "    for message in messages:\n",
    "        msg = service.users().messages().get(userId=\"me\", id=message[\"id\"]).execute()\n",
    "        payload = msg.get(\"payload\", {})\n",
    "        headers = payload.get(\"headers\", [])\n",
    "        subject = next(\n",
    "            (header[\"value\"] for header in headers if header[\"name\"] == \"Subject\"),\n",
    "            \"Sin asunto\",\n",
    "        )\n",
    "        body = \"\"\n",
    "\n",
    "        # Intenta obtener el contenido del mensaje\n",
    "        if \"parts\" in payload:\n",
    "            for part in payload[\"parts\"]:\n",
    "                if part[\"mimeType\"] == \"text/plain\":\n",
    "                    data = part[\"body\"].get(\"data\")\n",
    "                    if data:\n",
    "                        body = base64.urlsafe_b64decode(data).decode()\n",
    "                        break\n",
    "        elif \"body\" in payload:\n",
    "            data = payload[\"body\"].get(\"data\")\n",
    "            if data:\n",
    "                body = base64.urlsafe_b64decode(data).decode()\n",
    "\n",
    "        email_content.append(f\"Asunto: {subject}\\n\\n{body}\")\n",
    "\n",
    "        # Marca el mensaje como leído (opcional)\n",
    "        service.users().messages().modify(\n",
    "            userId=\"me\", id=message[\"id\"], body={\"removeLabelIds\": [\"UNREAD\"]}\n",
    "        ).execute()\n",
    "\n",
    "    return \"\\n\\n\".join(email_content)"
   ]
  },
  {
   "cell_type": "code",
   "execution_count": 9,
   "id": "c5e793b2-6775-426a-a139-4848291d0463",
   "metadata": {},
   "outputs": [],
   "source": [
    "\n",
    "class EmailAccount:\n",
    "    \"\"\"\n",
    "    Una clase de utilidad para representar una cuenta de correo electrónico.\n",
    "    \"\"\"\n",
    "\n",
    "    def __init__(self, email):\n",
    "        \"\"\"\n",
    "        Crea este objeto de correo utilizando la biblioteca BeautifulSoup\n",
    "        \"\"\"\n",
    "        service = authenticate_gmail()\n",
    "        unread_emails = get_unread_emails(service)\n",
    "\n",
    "        if unread_emails:\n",
    "            soup = BeautifulSoup(unread_emails, \"html.parser\")\n",
    "            self.title = f\"Mensajes no leídos del correo: {email}\"\n",
    "\n",
    "            # Verifica si existe la etiqueta <body> antes de intentar limpiar elementos\n",
    "            if soup.body:\n",
    "                for irrelevant in soup.body.find_all(\n",
    "                    [\"script\", \"style\", \"img\", \"input\"]\n",
    "                ):\n",
    "                    irrelevant.decompose()\n",
    "                self.text = soup.body.get_text(separator=\"\\n\", strip=True)\n",
    "            else:\n",
    "                # Si no hay <body>, usa el texto directamente\n",
    "                self.text = soup.get_text(separator=\"\\n\", strip=True)\n",
    "        else:\n",
    "            self.text = \"\"\n",
    "            self.title = f\"No hay mensajes no leídos en la cuenta: {email}\""
   ]
  },
  {
   "cell_type": "code",
   "execution_count": 10,
   "id": "abdb8417-c5dc-44bc-9bee-2e059d162699",
   "metadata": {},
   "outputs": [],
   "source": [
    "# Define nuestro mensaje de sistema: puedes experimentar con esto más tarde, cambiando la última oración a \"Responder en Markdown en español\".\n",
    "\n",
    "system_prompt = \"Eres un asistente que analiza el contenido del correo electrónico \\\n",
    "y proporciona un breve resumen, ignorando el texto que podría estar relacionado con la navegación. \\\n",
    "Responder en Markdown.\""
   ]
  },
  {
   "cell_type": "code",
   "execution_count": 11,
   "id": "f0275b1b-7cfe-4f9d-abfa-7650d378da0c",
   "metadata": {},
   "outputs": [],
   "source": [
    "# Una función que escribe un mensaje de usuario que solicita resúmenes de correos de Gmail no leídos\n",
    "\n",
    "def user_prompt_for(account_email):\n",
    "    user_prompt = f\"Estás viendo el correo electrónico no leido de la cuenta {account_email.title}\"\n",
    "    user_prompt += \"\\nEl contenido de estos correos es el siguiente; \\\n",
    "    proporciona un breve resumen de los correos en formato Markdown. \\\n",
    "    si el correo está en ingles haces el resumen en español \\\n",
    "    Si incluye noticias, productos o anuncios, resúmelos también.\\n\\n\"\n",
    "    user_prompt += account_email.text\n",
    "    return user_prompt"
   ]
  },
  {
   "cell_type": "code",
   "execution_count": 12,
   "id": "0134dfa4-8299-48b5-b444-f2a8c3403c88",
   "metadata": {},
   "outputs": [],
   "source": [
    "# Puedes ver cómo esta función crea exactamente el formato anterior\n",
    "\n",
    "def messages_for(account_email):\n",
    "    return [\n",
    "        {\"role\": \"system\", \"content\": system_prompt},\n",
    "        {\"role\": \"user\", \"content\": user_prompt_for(account_email)},\n",
    "    ]"
   ]
  },
  {
   "cell_type": "markdown",
   "id": "16f49d46-bf55-4c3e-928f-68fc0bf715b0",
   "metadata": {},
   "source": [
    "## Es hora de unirlo todo: ¡la API para OpenAI es muy simple!"
   ]
  },
  {
   "cell_type": "code",
   "execution_count": 13,
   "id": "905b9919-aba7-45b5-ae65-81b3d1d78e34",
   "metadata": {},
   "outputs": [],
   "source": [
    "# Y ahora: llama a la API de OpenAI. ¡Te resultará muy familiar!\n",
    "\n",
    "def summarize(email: str):\n",
    "    my_email = EmailAccount(email)\n",
    "    response = openai.chat.completions.create(\n",
    "        model=\"gpt-4o-mini\", messages=messages_for(my_email)\n",
    "    )\n",
    "    return response.choices[0].message.content"
   ]
  },
  {
   "cell_type": "code",
   "execution_count": 14,
   "id": "3d926d59-450e-4609-92ba-2d6f244f1342",
   "metadata": {},
   "outputs": [],
   "source": [
    "# Una función para mostrar esto de forma clara en la salida de Jupyter, usando markdown\n",
    "\n",
    "def display_summary(email: str):\n",
    "    summary = summarize(email)\n",
    "    display(Markdown(summary))"
   ]
  },
  {
   "cell_type": "code",
   "execution_count": 15,
   "id": "3018853a-445f-41ff-9560-d925d1774b2f",
   "metadata": {},
   "outputs": [
    {
     "ename": "FileNotFoundError",
     "evalue": "[Errno 2] No such file or directory: 'credentials.json'",
     "output_type": "error",
     "traceback": [
      "\u001b[0;31m---------------------------------------------------------------------------\u001b[0m",
      "\u001b[0;31mFileNotFoundError\u001b[0m                         Traceback (most recent call last)",
      "Cell \u001b[0;32mIn[15], line 1\u001b[0m\n\u001b[0;32m----> 1\u001b[0m \u001b[43mdisplay_summary\u001b[49m\u001b[43m(\u001b[49m\u001b[43memail_account\u001b[49m\u001b[43m)\u001b[49m\n",
      "Cell \u001b[0;32mIn[14], line 4\u001b[0m, in \u001b[0;36mdisplay_summary\u001b[0;34m(email)\u001b[0m\n\u001b[1;32m      3\u001b[0m \u001b[38;5;28;01mdef\u001b[39;00m\u001b[38;5;250m \u001b[39m\u001b[38;5;21mdisplay_summary\u001b[39m(email: \u001b[38;5;28mstr\u001b[39m):\n\u001b[0;32m----> 4\u001b[0m     summary \u001b[38;5;241m=\u001b[39m \u001b[43msummarize\u001b[49m\u001b[43m(\u001b[49m\u001b[43memail\u001b[49m\u001b[43m)\u001b[49m\n\u001b[1;32m      5\u001b[0m     display(Markdown(summary))\n",
      "Cell \u001b[0;32mIn[13], line 4\u001b[0m, in \u001b[0;36msummarize\u001b[0;34m(email)\u001b[0m\n\u001b[1;32m      3\u001b[0m \u001b[38;5;28;01mdef\u001b[39;00m\u001b[38;5;250m \u001b[39m\u001b[38;5;21msummarize\u001b[39m(email: \u001b[38;5;28mstr\u001b[39m):\n\u001b[0;32m----> 4\u001b[0m     my_email \u001b[38;5;241m=\u001b[39m \u001b[43mEmailAccount\u001b[49m\u001b[43m(\u001b[49m\u001b[43memail\u001b[49m\u001b[43m)\u001b[49m\n\u001b[1;32m      5\u001b[0m     response \u001b[38;5;241m=\u001b[39m openai\u001b[38;5;241m.\u001b[39mchat\u001b[38;5;241m.\u001b[39mcompletions\u001b[38;5;241m.\u001b[39mcreate(\n\u001b[1;32m      6\u001b[0m         model\u001b[38;5;241m=\u001b[39m\u001b[38;5;124m\"\u001b[39m\u001b[38;5;124mgpt-4o-mini\u001b[39m\u001b[38;5;124m\"\u001b[39m, messages\u001b[38;5;241m=\u001b[39mmessages_for(my_email)\n\u001b[1;32m      7\u001b[0m     )\n\u001b[1;32m      8\u001b[0m     \u001b[38;5;28;01mreturn\u001b[39;00m response\u001b[38;5;241m.\u001b[39mchoices[\u001b[38;5;241m0\u001b[39m]\u001b[38;5;241m.\u001b[39mmessage\u001b[38;5;241m.\u001b[39mcontent\n",
      "Cell \u001b[0;32mIn[9], line 10\u001b[0m, in \u001b[0;36mEmailAccount.__init__\u001b[0;34m(self, email)\u001b[0m\n\u001b[1;32m      6\u001b[0m \u001b[38;5;28;01mdef\u001b[39;00m\u001b[38;5;250m \u001b[39m\u001b[38;5;21m__init__\u001b[39m(\u001b[38;5;28mself\u001b[39m, email):\n\u001b[1;32m      7\u001b[0m \u001b[38;5;250m    \u001b[39m\u001b[38;5;124;03m\"\"\"\u001b[39;00m\n\u001b[1;32m      8\u001b[0m \u001b[38;5;124;03m    Crea este objeto de correo utilizando la biblioteca BeautifulSoup\u001b[39;00m\n\u001b[1;32m      9\u001b[0m \u001b[38;5;124;03m    \"\"\"\u001b[39;00m\n\u001b[0;32m---> 10\u001b[0m     service \u001b[38;5;241m=\u001b[39m \u001b[43mauthenticate_gmail\u001b[49m\u001b[43m(\u001b[49m\u001b[43m)\u001b[49m\n\u001b[1;32m     11\u001b[0m     unread_emails \u001b[38;5;241m=\u001b[39m get_unread_emails(service)\n\u001b[1;32m     13\u001b[0m     \u001b[38;5;28;01mif\u001b[39;00m unread_emails:\n",
      "Cell \u001b[0;32mIn[7], line 12\u001b[0m, in \u001b[0;36mauthenticate_gmail\u001b[0;34m()\u001b[0m\n\u001b[1;32m     10\u001b[0m     creds\u001b[38;5;241m.\u001b[39mrefresh(Request())\n\u001b[1;32m     11\u001b[0m \u001b[38;5;28;01melse\u001b[39;00m:\n\u001b[0;32m---> 12\u001b[0m     flow \u001b[38;5;241m=\u001b[39m \u001b[43mInstalledAppFlow\u001b[49m\u001b[38;5;241;43m.\u001b[39;49m\u001b[43mfrom_client_secrets_file\u001b[49m\u001b[43m(\u001b[49m\u001b[38;5;124;43m\"\u001b[39;49m\u001b[38;5;124;43mcredentials.json\u001b[39;49m\u001b[38;5;124;43m\"\u001b[39;49m\u001b[43m,\u001b[49m\u001b[43m \u001b[49m\u001b[43mSCOPES\u001b[49m\u001b[43m)\u001b[49m\n\u001b[1;32m     13\u001b[0m     creds \u001b[38;5;241m=\u001b[39m flow\u001b[38;5;241m.\u001b[39mrun_local_server(port\u001b[38;5;241m=\u001b[39m\u001b[38;5;241m0\u001b[39m)\n\u001b[1;32m     14\u001b[0m \u001b[38;5;66;03m# Guarda las credenciales para el futuro\u001b[39;00m\n",
      "File \u001b[0;32m~/anaconda3/envs/llms/lib/python3.11/site-packages/google_auth_oauthlib/flow.py:198\u001b[0m, in \u001b[0;36mFlow.from_client_secrets_file\u001b[0;34m(cls, client_secrets_file, scopes, **kwargs)\u001b[0m\n\u001b[1;32m    183\u001b[0m \u001b[38;5;129m@classmethod\u001b[39m\n\u001b[1;32m    184\u001b[0m \u001b[38;5;28;01mdef\u001b[39;00m\u001b[38;5;250m \u001b[39m\u001b[38;5;21mfrom_client_secrets_file\u001b[39m(\u001b[38;5;28mcls\u001b[39m, client_secrets_file, scopes, \u001b[38;5;241m*\u001b[39m\u001b[38;5;241m*\u001b[39mkwargs):\n\u001b[1;32m    185\u001b[0m \u001b[38;5;250m    \u001b[39m\u001b[38;5;124;03m\"\"\"Creates a :class:`Flow` instance from a Google client secrets file.\u001b[39;00m\n\u001b[1;32m    186\u001b[0m \n\u001b[1;32m    187\u001b[0m \u001b[38;5;124;03m    Args:\u001b[39;00m\n\u001b[0;32m   (...)\u001b[0m\n\u001b[1;32m    196\u001b[0m \u001b[38;5;124;03m        Flow: The constructed Flow instance.\u001b[39;00m\n\u001b[1;32m    197\u001b[0m \u001b[38;5;124;03m    \"\"\"\u001b[39;00m\n\u001b[0;32m--> 198\u001b[0m     \u001b[38;5;28;01mwith\u001b[39;00m \u001b[38;5;28;43mopen\u001b[39;49m\u001b[43m(\u001b[49m\u001b[43mclient_secrets_file\u001b[49m\u001b[43m,\u001b[49m\u001b[43m \u001b[49m\u001b[38;5;124;43m\"\u001b[39;49m\u001b[38;5;124;43mr\u001b[39;49m\u001b[38;5;124;43m\"\u001b[39;49m\u001b[43m)\u001b[49m \u001b[38;5;28;01mas\u001b[39;00m json_file:\n\u001b[1;32m    199\u001b[0m         client_config \u001b[38;5;241m=\u001b[39m json\u001b[38;5;241m.\u001b[39mload(json_file)\n\u001b[1;32m    201\u001b[0m     \u001b[38;5;28;01mreturn\u001b[39;00m \u001b[38;5;28mcls\u001b[39m\u001b[38;5;241m.\u001b[39mfrom_client_config(client_config, scopes\u001b[38;5;241m=\u001b[39mscopes, \u001b[38;5;241m*\u001b[39m\u001b[38;5;241m*\u001b[39mkwargs)\n",
      "\u001b[0;31mFileNotFoundError\u001b[0m: [Errno 2] No such file or directory: 'credentials.json'"
     ]
    }
   ],
   "source": [
    "display_summary(email_account)"
   ]
  }
 ],
 "metadata": {
  "kernelspec": {
   "display_name": "Python 3 (ipykernel)",
   "language": "python",
   "name": "python3"
  },
  "language_info": {
   "codemirror_mode": {
    "name": "ipython",
    "version": 3
   },
   "file_extension": ".py",
   "mimetype": "text/x-python",
   "name": "python",
   "nbconvert_exporter": "python",
   "pygments_lexer": "ipython3",
   "version": "3.11.11"
  }
 },
 "nbformat": 4,
 "nbformat_minor": 5
}
