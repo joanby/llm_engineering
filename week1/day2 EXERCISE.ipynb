{
 "cells": [
  {
   "cell_type": "markdown",
   "id": "d15d8294-3328-4e07-ad16-8a03e9bbfdb9",
   "metadata": {},
   "source": [
    "# TAREA DE EJERCICIO\n",
    "\n",
    "Actualiza el proyecto del día 1 para resumir una página web y utilizar un modelo de código abierto que se ejecute localmente a través de Ollama en lugar de OpenAI\n",
    "\n",
    "Podrás utilizar esta técnica para todos los proyectos posteriores si prefiere no utilizar API de pago (closed source).\n",
    "\n",
    "**Beneficios:**\n",
    "1. Sin cargos por API: código abierto\n",
    "2. Los datos no salen de su ordenador\n",
    "\n",
    "**Desventajas:**\n",
    "1. Tiene mucha menos potencia (parámetros) que el modelo Frontier\n",
    "\n",
    "## Resumen de la instalación de Ollama\n",
    "\n",
    "¡Simplemente visita [ollama.com](https://ollama.com) e instálalo!\n",
    "\n",
    "Una vez que hayas terminado, el servidor ollama ya debería estar ejecutándose localmente.\n",
    "Si entras en:\n",
    "[http://localhost:11434/](http://localhost:11434/)\n",
    "\n",
    "Debería ver el mensaje `Ollama se está ejecutando`.\n",
    "\n",
    "De lo contrario, abre una nueva Terminal (Mac) o Powershell (Windows) e introduce `ollama serve`.\n",
    "Luego, intenta entrar em [http://localhost:11434/](http://localhost:11434/) nuevamente."
   ]
  },
  {
   "cell_type": "code",
   "execution_count": 1,
   "id": "4e2a9393-7767-488e-a8bf-27c12dca35bd",
   "metadata": {},
   "outputs": [],
   "source": [
    "# imports\n",
    "\n",
    "import requests\n",
    "from bs4 import BeautifulSoup\n",
    "from IPython.display import Markdown, display"
   ]
  },
  {
   "cell_type": "code",
   "execution_count": 2,
   "id": "29ddd15d-a3c5-4f4e-a678-873f56162724",
   "metadata": {},
   "outputs": [],
   "source": [
    "# Constantes\n",
    "\n",
    "OLLAMA_API = \"http://localhost:11434/api/chat\"\n",
    "HEADERS = {\"Content-Type\": \"application/json\"}\n",
    "MODEL = \"llama3.2\""
   ]
  },
  {
   "cell_type": "code",
   "execution_count": 3,
   "id": "dac0a679-599c-441f-9bf2-ddc73d35b940",
   "metadata": {},
   "outputs": [],
   "source": [
    "# Crea una lista de mensajes utilizando el mismo formato que usamos para OpenAI\n",
    "\n",
    "messages = [\n",
    "    {\"role\": \"user\", \"content\": \"Describe algunas de las aplicaciones comerciales de la IA generativa.\"}\n",
    "]"
   ]
  },
  {
   "cell_type": "code",
   "execution_count": 4,
   "id": "7bb9c624-14f0-4945-a719-8ddb64f66f47",
   "metadata": {},
   "outputs": [],
   "source": [
    "payload = {\n",
    "        \"model\": MODEL,\n",
    "        \"messages\": messages,\n",
    "        \"stream\": False\n",
    "    }"
   ]
  },
  {
   "cell_type": "code",
   "execution_count": 5,
   "id": "42b9f644-522d-4e05-a691-56e7658c0ea9",
   "metadata": {},
   "outputs": [
    {
     "name": "stdout",
     "output_type": "stream",
     "text": [
      "La Inteligencia Artificial (IA) generativa es un tipo de aprendizaje automático que permite a los sistemas crear contenido nuevo y original, como imágenes, videos, música, texto y más. A continuación, se presentan algunas de las aplicaciones comerciales más comunes de la IA generativa:\n",
      "\n",
      "1. **Modelado de productos**: La IA generativa se utiliza para crear modelos 3D de productos, lo que permite a los diseñadores y fabricantes crear prototipos virtuales con mayor precisión y eficiencia.\n",
      "2. **Creación de contenido multimedia**: La IA generativa se utiliza en la creación de contenido multimedia, como videos y imágenes, para animaciones publicitarias, publicidad en redes sociales y marketing de branding.\n",
      "3. **Generación de música y sonidos**: La IA generativa se utiliza para crear música y sonidos originales para películas, videojuegos, anuncios publicitarios y aplicaciones móviles.\n",
      "4. **Creación de texto y noticias**: La IA generativa se utiliza para generar noticias y artículos de prensa, lo que permite a los medios de comunicación producir contenido más rápido y eficientemente.\n",
      "5. **Análisis de datos**: La IA generativa se utiliza en el análisis de datos para identificar patrones y tendencias en grandes cantidades de datos, lo que permite a las empresas tomar decisiones más informadas.\n",
      "6. **Creación de experiencias de realidad virtual (VR) y aumentada (AR)**: La IA generativa se utiliza en la creación de experiencias de VR y AR para crear entornos virtuales y objetos 3D que imitan la realidad.\n",
      "7. **Generación de personas virtuales**: La IA generativa se utiliza para crear personas virtuales, como personajes en videojuegos y avatares en aplicaciones móviles.\n",
      "8. **Creación de productos personalizados**: La IA generativa se utiliza para crear productos personalizados, como ropa, accesorios y joyas, que pueden ser diseñados y fabricados según las necesidades del cliente.\n",
      "9. **Análisis de imágenes**: La IA generativa se utiliza en el análisis de imágenes para identificar objetos, personas y patrones en grandes cantidades de datos.\n",
      "10. **Creación de modelos de comportamiento**: La IA generativa se utiliza para crear modelos de comportamiento de clientes y clientes potenciales, lo que permite a las empresas entender mejor sus necesidades y preferencias.\n",
      "\n",
      "En resumen, la IA generativa es una herramienta poderosa que puede ser utilizada en diversas aplicaciones comerciales, desde la creación de contenido multimedia hasta el análisis de datos y la creación de productos personalizados.\n"
     ]
    }
   ],
   "source": [
    "response = requests.post(OLLAMA_API, json=payload, headers=HEADERS)\n",
    "print(response.json()['message']['content'])"
   ]
  },
  {
   "cell_type": "markdown",
   "id": "6a021f13-d6a1-4b96-8e18-4eae49d876fe",
   "metadata": {},
   "source": [
    "# Presentación del paquete ollama\n",
    "\n",
    "Ahora haremos lo mismo, pero utilizando el elegante paquete de Python ollama en lugar de una llamada HTTP directa.\n",
    "\n",
    "En esencia, se realiza la misma llamada que se indicó anteriormente al servidor ollama que se ejecuta en localhost:11434"
   ]
  },
  {
   "cell_type": "code",
   "execution_count": 6,
   "id": "7745b9c4-57dc-4867-9180-61fa5db55eb8",
   "metadata": {},
   "outputs": [
    {
     "name": "stdout",
     "output_type": "stream",
     "text": [
      "La inteligencia artificial generativa (IAG) es un campo en constante evolución que ofrece una amplia gama de aplicaciones comerciales prometedoras. A continuación, se presentan algunas de las formas en que la IAG está siendo utilizada en diferentes sectores:\n",
      "\n",
      "1. **Generación de contenido**: La IAG puede crear texto, imágenes y videos de alta calidad con un ritmo y estilo que pueden imitar a humanos. Esto se utiliza para:\n",
      " * Crear contenido de marketing y publicidad personalizado.\n",
      " * Generar noticias y artículos de contenido relevante.\n",
      " * Producir contenido para redes sociales.\n",
      "\n",
      "2. **Diseño gráfico**: La IAG puede crear diseños gráficos como logotipos, pósters y materiales de comunicación corporativa. Esto se utiliza para:\n",
      " * Crear identidad visual única y coherente para marcas.\n",
      " * Diseñar materiales de marketing y publicidad efectivos.\n",
      "\n",
      "3. **Análisis de datos**: La IAG puede analizar grandes cantidades de datos para identificar patrones y tendencias. Esto se utiliza para:\n",
      " * Analizar datos de comportamiento de los clientes.\n",
      " * Identificar oportunidades de negocio y riesgos.\n",
      "\n",
      "4. **Sistemas de recomendación**: La IAG puede crear sistemas de recomendación que sugieren productos o servicios relevantes a los clientes. Esto se utiliza para:\n",
      " * Mejorar la experiencia del cliente en línea.\n",
      " * Incrementar las ventas y las conversiones.\n",
      "\n",
      "5. **Automatización de procesos**: La IAG puede automatizar tareas repetitivas y tediosas, liberando tiempo para que los empleados se concentren en actividades más creativas y estratégicas. Esto se utiliza para:\n",
      " * Automatizar la generación de informes y documentos.\n",
      " * Crear sistemas de automatización de procesos.\n",
      "\n",
      "6. **Diseño de productos**: La IAG puede crear diseños de productos como prototipos y maquetas. Esto se utiliza para:\n",
      " * Crear diseños innovadores y atractivos.\n",
      " * Reducir el tiempo y el costo de desarrollo.\n",
      "\n",
      "7. **Análisis de imágenes**: La IAG puede analizar imágenes para extraer información como objetos, colores y texturas. Esto se utiliza para:\n",
      " * Analizar imágenes de satélite para identificar cambios en la tierra.\n",
      " * Crear sistemas de reconocimiento facial y emoción.\n",
      "\n",
      "8. **Creación de personajes virtuales**: La IAG puede crear personajes virtuales que pueden interactuar con los usuarios. Esto se utiliza para:\n",
      " * Crear experiencias inmersivas en videojuegos y aplicaciones.\n",
      " * Personalizar la experiencia del cliente en las redes sociales.\n",
      "\n",
      "En resumen, la inteligencia artificial generativa ofrece una amplia gama de aplicaciones comerciales que pueden ayudar a las empresas a mejorar su eficiencia, innovación y competitividad en el mercado.\n"
     ]
    }
   ],
   "source": [
    "import ollama\n",
    "\n",
    "response = ollama.chat(model=MODEL, messages=messages)\n",
    "print(response['message']['content'])"
   ]
  },
  {
   "cell_type": "code",
   "execution_count": null,
   "id": "9a611b05-b5b0-4c83-b82d-b3a39ffb917d",
   "metadata": {},
   "outputs": [],
   "source": []
  },
  {
   "cell_type": "markdown",
   "id": "1622d9bb-5c68-4d4e-9ca4-b492c751f898",
   "metadata": {},
   "source": [
    "# AHORA el ejercicio para ti\n",
    "\n",
    "Toma el código del día 1 e incorpóralo aquí para crear un resumidor de sitios web que use Llama 3.2 ejecutándose localmente en lugar de OpenAI"
   ]
  },
  {
   "cell_type": "code",
   "execution_count": 7,
   "id": "4a3d6881-35af-469e-a8ff-a8b62b721d95",
   "metadata": {},
   "outputs": [],
   "source": [
    "import ollama\n",
    "import requests\n",
    "from bs4 import BeautifulSoup\n",
    "from IPython.display import Markdown, display"
   ]
  },
  {
   "cell_type": "code",
   "execution_count": 11,
   "id": "cad8d097-578e-452c-8618-a7e5c390247c",
   "metadata": {},
   "outputs": [],
   "source": [
    "MODEL = \"llama3.2\""
   ]
  },
  {
   "cell_type": "code",
   "execution_count": 9,
   "id": "586c8cc4-797d-4b6c-87cd-2fbe547c8fb6",
   "metadata": {},
   "outputs": [],
   "source": [
    "# Se crea una clase que representa una pagina web\n",
    "\n",
    "# Una clase para representar una página web\n",
    "# Si no estás familiarizado con las clases, consulta el cuaderno \"Python intermedio\"\n",
    "\n",
    "class Website:\n",
    "    \"\"\"\n",
    "    Una clase de utilidad para representar un sitio web que hemos scrappeado\n",
    "    \"\"\"\n",
    "\n",
    "    def __init__(self, url):\n",
    "        \"\"\"\n",
    "        Crea este objeto de sitio web a partir de la URL indicada utilizando la biblioteca BeautifulSoup\n",
    "        \"\"\"\n",
    "        self.url = url\n",
    "        response = requests.get(url)\n",
    "        soup = BeautifulSoup(response.content, 'html.parser')\n",
    "        self.title = soup.title.string if soup.title else \"No tiene título\"\n",
    "        for irrelevant in soup.body([\"script\", \"style\", \"img\", \"input\"]):\n",
    "            irrelevant.decompose()\n",
    "        self.text = soup.body.get_text(separator=\"\\n\", strip=True)"
   ]
  },
  {
   "cell_type": "code",
   "execution_count": 12,
   "id": "d92762d3-34a8-4949-91ef-a1c675819c16",
   "metadata": {},
   "outputs": [],
   "source": [
    "# Vamos a probar\n",
    "\n",
    "# Una función que escribe un mensaje de usuario que solicita resúmenes de sitios web:\n",
    "\n",
    "def user_prompt_for(website):\n",
    "    user_prompt = f\"Estás viendo un sitio web titulado {website.title}\"\n",
    "    user_prompt += \"\\nEl contenido de este sitio web es el siguiente; \\\n",
    "    proporciona un breve resumen de este sitio web en formato Markdown. \\\n",
    "    Si incluye noticias, productos o anuncios, resúmelos también.\\n\\n\"\n",
    "    user_prompt += website.text\n",
    "    return user_prompt"
   ]
  },
  {
   "cell_type": "code",
   "execution_count": 13,
   "id": "7f192061-702e-48f4-9867-7d8013691d10",
   "metadata": {},
   "outputs": [],
   "source": [
    "def messages_for(website):\n",
    "    return [\n",
    "        {\"role\": \"user\", \"content\": user_prompt_for(website)}\n",
    "    ]"
   ]
  },
  {
   "cell_type": "code",
   "execution_count": 20,
   "id": "3cd1ab97-3493-4b95-b9a7-677d97b088d5",
   "metadata": {},
   "outputs": [],
   "source": [
    "def summarize(url):\n",
    "    website = Website(url)\n",
    "    response = ollama.chat(model=MODEL, messages=messages_for(website))\n",
    "    return response['message']['content']"
   ]
  },
  {
   "cell_type": "code",
   "execution_count": 21,
   "id": "99bdbe2d-e145-4ec6-9722-ee48bcba9891",
   "metadata": {},
   "outputs": [],
   "source": [
    "def display_summary(url):\n",
    "    summary = summarize(url)\n",
    "    display(Markdown(summary))"
   ]
  },
  {
   "cell_type": "code",
   "execution_count": 22,
   "id": "40923bf4-55a8-4e2b-b95d-e46e5b78e176",
   "metadata": {},
   "outputs": [
    {
     "data": {
      "text/markdown": [
       "El texto proporcionado es una presentación de la plataforma de formación online \"Frogames\". A continuación, se presentan los principales puntos que se pueden extraer del texto:\n",
       "\n",
       "**Introducción**\n",
       "\n",
       "* Frogames es una plataforma de formación online que ofrece cursos y programas de estudio en diversas áreas.\n",
       "* La plataforma fue fundada por Juan Gabriel Gomila y María Santos.\n",
       "\n",
       "**Ventajas de utilizar Frogames**\n",
       "\n",
       "* Aprender con expertos en sus respectivas áreas\n",
       "* Acceso a más de 500.000 estudiantes en todo el mundo\n",
       "* Plataforma de alta calidad con una comunidad activa\n",
       "\n",
       "**Cursos y programas de estudio**\n",
       "\n",
       "* Ofrece cursos y programas de estudio en diversas áreas, como:\n",
       " + Matemáticas desde Cero\n",
       " + Lenguajes de Programación\n",
       " + Emprendimiento\n",
       " + Análisis de Datos\n",
       " + Business Intelligence\n",
       " + Trading Algorítmico\n",
       " + Inteligencia Artificial\n",
       " + Desarrollo Android\n",
       " + Desarrollo iOS\n",
       " + Desarrollo de Videojuegos\n",
       " + Blockchain\n",
       " + Ofimática\n",
       " + Base de Datos\n",
       " + Desarrollo Multiplataforma\n",
       " + Desarrollo Web\n",
       " + Composición Musical\n",
       "\n",
       "**Premios y distinciones**\n",
       "\n",
       "* Frogames ha ganado diversos premios y distinciones, incluyendo la distinción de plataforma educativa destacada a nivel mundial.\n",
       "\n",
       "**Oportunidades para trabajar con Frogames**\n",
       "\n",
       "* Puedes convertirte en afiliado y ser remunerado por cada venta que consigas.\n",
       "* Si tienes una audiencia o gestionas un grupo de personas interesadas en la formación, Frogames tiene un sistema de afiliados que te recompensa por tu trabajo.\n",
       "\n",
       "**Política de privacidad y uso**\n",
       "\n",
       "* La plataforma sigue una política de privacidad y uso clara.\n",
       "* Puedes encontrar más información sobre las políticas de privacidad y uso en el sitio web de Frogames."
      ],
      "text/plain": [
       "<IPython.core.display.Markdown object>"
      ]
     },
     "metadata": {},
     "output_type": "display_data"
    }
   ],
   "source": [
    "display_summary(\"https://cursos.frogamesformacion.com\")"
   ]
  },
  {
   "cell_type": "code",
   "execution_count": null,
   "id": "b378e65d-73ee-4ed2-8171-78faefb49a31",
   "metadata": {},
   "outputs": [],
   "source": []
  }
 ],
 "metadata": {
  "kernelspec": {
   "display_name": "Python 3 (ipykernel)",
   "language": "python",
   "name": "python3"
  },
  "language_info": {
   "codemirror_mode": {
    "name": "ipython",
    "version": 3
   },
   "file_extension": ".py",
   "mimetype": "text/x-python",
   "name": "python",
   "nbconvert_exporter": "python",
   "pygments_lexer": "ipython3",
   "version": "3.11.11"
  }
 },
 "nbformat": 4,
 "nbformat_minor": 5
}
