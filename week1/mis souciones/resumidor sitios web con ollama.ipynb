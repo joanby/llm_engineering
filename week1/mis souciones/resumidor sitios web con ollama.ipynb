{
 "cells": [
  {
   "cell_type": "markdown",
   "id": "5f1dbc66-d4eb-4d98-b2c2-e96a9d49a447",
   "metadata": {},
   "source": [
    "# AHORA el ejercicio para ti\n",
    "\n",
    "Toma el código del día 1 e incorpóralo aquí para crear un resumidor de sitios web que use Llama 3.2 ejecutándose localmente en lugar de OpenAI"
   ]
  },
  {
   "cell_type": "code",
   "execution_count": 1,
   "id": "d0c34e64-5fdd-41d0-ba60-5630e64e2f6f",
   "metadata": {},
   "outputs": [],
   "source": [
    "import ollama\n",
    "import requests\n",
    "from bs4 import BeautifulSoup\n",
    "from IPython.display import Markdown, display"
   ]
  },
  {
   "cell_type": "code",
   "execution_count": 2,
   "id": "1c46c7ce-fa49-4d02-9811-a32ed0b9d4a9",
   "metadata": {},
   "outputs": [],
   "source": [
    "MODEL = \"llama3.2\""
   ]
  },
  {
   "cell_type": "code",
   "execution_count": 3,
   "id": "028077a2-6061-4a2e-9aa6-2da1db3a1faf",
   "metadata": {},
   "outputs": [],
   "source": [
    "# Se crea una clase que representa una pagina web\n",
    "\n",
    "# Una clase para representar una página web\n",
    "# Si no estás familiarizado con las clases, consulta el cuaderno \"Python intermedio\"\n",
    "\n",
    "class Website:\n",
    "    \"\"\"\n",
    "    Una clase de utilidad para representar un sitio web que hemos scrappeado\n",
    "    \"\"\"\n",
    "\n",
    "    def __init__(self, url):\n",
    "        \"\"\"\n",
    "        Crea este objeto de sitio web a partir de la URL indicada utilizando la biblioteca BeautifulSoup\n",
    "        \"\"\"\n",
    "        self.url = url\n",
    "        response = requests.get(url)\n",
    "        soup = BeautifulSoup(response.content, 'html.parser')\n",
    "        self.title = soup.title.string if soup.title else \"No tiene título\"\n",
    "        for irrelevant in soup.body([\"script\", \"style\", \"img\", \"input\"]):\n",
    "            irrelevant.decompose()\n",
    "        self.text = soup.body.get_text(separator=\"\\n\", strip=True)"
   ]
  },
  {
   "cell_type": "code",
   "execution_count": 4,
   "id": "8547f58b-e6f4-4966-b366-d1a289e30f3e",
   "metadata": {},
   "outputs": [],
   "source": [
    "# Vamos a probar\n",
    "\n",
    "# Una función que escribe un mensaje de usuario que solicita resúmenes de sitios web:\n",
    "\n",
    "def user_prompt_for(website):\n",
    "    user_prompt = f\"Estás viendo un sitio web titulado {website.title}\"\n",
    "    user_prompt += \"\\nEl contenido de este sitio web es el siguiente; \\\n",
    "    proporciona un breve resumen de este sitio web en formato Markdown. \\\n",
    "    Si incluye noticias, productos o anuncios, resúmelos también.\\n\\n\"\n",
    "    user_prompt += website.text\n",
    "    return user_prompt"
   ]
  },
  {
   "cell_type": "code",
   "execution_count": 5,
   "id": "9e6aadb6-9a4b-48a6-a1e6-2dfaf2f138d5",
   "metadata": {},
   "outputs": [],
   "source": [
    "def messages_for(website):\n",
    "    return [\n",
    "        {\"role\": \"user\", \"content\": user_prompt_for(website)}\n",
    "    ]"
   ]
  },
  {
   "cell_type": "code",
   "execution_count": 6,
   "id": "b9e357dc-686c-4d39-a80f-f547edea26d9",
   "metadata": {},
   "outputs": [],
   "source": [
    "def summarize(url):\n",
    "    website = Website(url)\n",
    "    response = ollama.chat(model=MODEL, messages=messages_for(website))\n",
    "    return response['message']['content']"
   ]
  },
  {
   "cell_type": "code",
   "execution_count": 7,
   "id": "767be72b-3425-4ccc-baa0-4df87a55db93",
   "metadata": {},
   "outputs": [],
   "source": [
    "def display_summary(url):\n",
    "    summary = summarize(url)\n",
    "    display(Markdown(summary))"
   ]
  },
  {
   "cell_type": "code",
   "execution_count": 9,
   "id": "74a6cb33-9c8f-415b-a95c-fa1d3e80648d",
   "metadata": {},
   "outputs": [
    {
     "data": {
      "text/markdown": [
       "El texto proporcionado no parece ser un proyecto o una guía específica, sino más bien una lista de ejemplos de proyectos que pueden ser incluidos en el portafolio de un desarrollador de backend. A continuación, te presento algunos puntos clave y sugerencias para aprovechar al máximo estos proyectos en tu portafolio:\n",
       "\n",
       "1. **Variedad de proyectos**: Incluir una variedad de proyectos en tu portafolio es importante para demostrar tus habilidades en diferentes áreas del desarrollo de software.\n",
       "2. **Calidad y complejidad**: Asegúrate de que los proyectos sean lo suficientemente complejos como para demostrar tus habilidades, pero no tan complejos que sean imposibles de entender o implementar.\n",
       "3. **Documentación y comunicación**: Asegúrate de documentar tus proyectos de manera clara y concisa, y estar dispuesto a explicarlos a otros en caso de que sea necesario.\n",
       "4. **Relevancia y actualidad**: Asegúrate de que los proyectos estén actualizados y relevantes para el mercado laboral actual.\n",
       "5. **Uso de tecnologías actuales**: Asegúrate de usar las últimas tecnologías y herramientas en tus proyectos para demostrar tu conocimiento y habilidades.\n",
       "\n",
       "En cuanto a la lista específica de proyectos que se proporcionó, aquí hay algunas sugerencias:\n",
       "\n",
       "* **Proyecto 1: Plataforma de redes sociales**: Asegúrate de incluir una variedad de funcionalidades, como la autenticación de usuarios, la publicación de contenido y la conexión entre usuarios.\n",
       "* **Proyecto 2: Aplicación móvil para seguimiento de dieta**: Asegúrate de incluir funcionalidades como la creación de perfiles, la entrada de alimentos y las estadísticas de seguimiento.\n",
       "* **Proyecto 3: Plataforma de e-commerce**: Asegúrate de incluir funcionalidades como la creación de productos, la gestión de pedidos y la integraction con pagos en línea.\n",
       "* **Proyecto 4: Aplicación para seguimiento de salud**: Asegúrate de incluir funcionalidades como la creación de perfiles, la entrada de datos médicos y las estadísticas de seguimiento.\n",
       "* **Proyecto 5: Plataforma de gestión de proyectos**: Asegúrate de incluir funcionalidades como la creación de proyectos, la gestión de tareas y la colaboración entre usuarios.\n",
       "\n",
       "Recuerda que la clave es demostrar tus habilidades y experiencia en el desarrollo de software, por lo que asegúrate de elegir proyectos que te permitan destacar en tu portafolio."
      ],
      "text/plain": [
       "<IPython.core.display.Markdown object>"
      ]
     },
     "metadata": {},
     "output_type": "display_data"
    }
   ],
   "source": [
    "display_summary(\"https://javiergutierrez.trade/los-5-proyectos-de-backend-mas-interesantes-para-anadir-a-tu-portafolio/\")"
   ]
  },
  {
   "cell_type": "code",
   "execution_count": null,
   "id": "64960a2a-7236-46be-8d17-58fa05b9eaef",
   "metadata": {},
   "outputs": [],
   "source": []
  }
 ],
 "metadata": {
  "kernelspec": {
   "display_name": "Python 3 (ipykernel)",
   "language": "python",
   "name": "python3"
  },
  "language_info": {
   "codemirror_mode": {
    "name": "ipython",
    "version": 3
   },
   "file_extension": ".py",
   "mimetype": "text/x-python",
   "name": "python",
   "nbconvert_exporter": "python",
   "pygments_lexer": "ipython3",
   "version": "3.11.11"
  }
 },
 "nbformat": 4,
 "nbformat_minor": 5
}
