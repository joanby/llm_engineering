{
 "cells": [
  {
   "cell_type": "markdown",
   "id": "a98030af-fcd1-4d63-a36e-38ba053498fa",
   "metadata": {},
   "source": [
    "# Una solución empresarial completa\n",
    "\n",
    "## Ahora llevaremos nuestro proyecto del día 1 al siguiente nivel\n",
    "\n",
    "### DESAFÍO EMPRESARIAL:\n",
    "\n",
    "Crear un producto que genere un folleto para una empresa que se utilizará para posibles clientes, inversores y posibles reclutas.\n",
    "\n",
    "Se nos proporcionará un nombre de empresa y su sitio web principal.\n",
    "\n",
    "Consulte el final de este cuaderno para ver ejemplos de aplicaciones empresariales del mundo real.\n",
    "\n",
    "Y recuerde: ¡siempre estoy disponible si tiene problemas o ideas! No dude en comunicarse conmigo."
   ]
  },
  {
   "cell_type": "code",
   "execution_count": 22,
   "id": "d5b08506-dc8b-4443-9201-5f1848161363",
   "metadata": {},
   "outputs": [],
   "source": [
    "# imports\n",
    "# Si esto falla, verifica que esté ejecutándose desde un entorno \"activado\" con (llms) en el símbolo del sistema\n",
    "\n",
    "import os\n",
    "import requests\n",
    "import json\n",
    "from typing import List\n",
    "from dotenv import load_dotenv\n",
    "from bs4 import BeautifulSoup\n",
    "from IPython.display import Markdown, display, update_display\n",
    "from openai import OpenAI"
   ]
  },
  {
   "cell_type": "code",
   "execution_count": 23,
   "id": "fc5d8880-f2ee-4c06-af16-ecbc0262af61",
   "metadata": {},
   "outputs": [
    {
     "name": "stdout",
     "output_type": "stream",
     "text": [
      "La clave de API parece buena\n"
     ]
    }
   ],
   "source": [
    "# Inicialización y constantes and constants\n",
    "\n",
    "load_dotenv()\n",
    "api_key = os.getenv('OPENAI_API_KEY')\n",
    "\n",
    "if api_key and api_key[:8]=='sk-proj-':\n",
    "    print(\"La clave de API parece buena\")\n",
    "else:\n",
    "    print(\"¿Puede haber un problema con tu clave API? ¡Visita el cuaderno de resolución de problemas!\")\n",
    "    \n",
    "MODEL = 'gpt-4o-mini'\n",
    "openai = OpenAI()"
   ]
  },
  {
   "cell_type": "code",
   "execution_count": 24,
   "id": "106dd65e-90af-4ca8-86b6-23a41840645b",
   "metadata": {},
   "outputs": [],
   "source": [
    "# La clase para representar una Página Web\n",
    "\n",
    "class Website:\n",
    "    \"\"\"\n",
    "    Una clase de utilidad para representar un sitio web que hemos scrappeado, ahora con enlaces\n",
    "    \"\"\"\n",
    "\n",
    "    def __init__(self, url):\n",
    "        self.url = url\n",
    "        response = requests.get(url)\n",
    "        self.body = response.content\n",
    "        soup = BeautifulSoup(self.body, 'html.parser')\n",
    "        self.title = soup.title.string if soup.title else \"Sin título\"\n",
    "        if soup.body:\n",
    "            for irrelevant in soup.body([\"script\", \"style\", \"img\", \"input\"]):\n",
    "                irrelevant.decompose()\n",
    "            self.text = soup.body.get_text(separator=\"\\n\", strip=True)\n",
    "        else:\n",
    "            self.text = \"\"\n",
    "        links = [link.get('href') for link in soup.find_all('a')]\n",
    "        self.links = [link for link in links if link]\n",
    "\n",
    "    def get_contents(self):\n",
    "        return f\"Título de la Web:\\n{self.title}\\nContenido de la Web:\\n{self.text}\\n\\n\""
   ]
  },
  {
   "cell_type": "code",
   "execution_count": 25,
   "id": "6957b079-0d96-45f7-a26a-3487510e9b35",
   "metadata": {},
   "outputs": [],
   "source": [
    "link_system_prompt = \"Se te proporciona una lista de enlaces que se encuentran en una página web. \\\n",
    "Puedes decidir cuáles de los enlaces serían los más relevantes para incluir en un folleto de Marketing sobre la solución Siigo Nube, \\\n",
    "como enlaces a quien va dirigido, beneficios, los planes.\\n\"\n",
    "link_system_prompt += \"Debes responder en JSON como en este ejemplo:\"\n",
    "link_system_prompt += \"\"\"\n",
    "{\n",
    "    \"links\": [\n",
    "        {\"type\": \"Pagina De la solucion\", \"url\": \"https://url.completa/aqui/va/sistema-administrativo-en-la-nube\"},\n",
    "        {\"type\": \"Pagina de verticales\": \"url\": \"https://otra.url.completa/software-administrativo-nube-consultorio-dental\"}\n",
    "    ]\n",
    "}\n",
    "\"\"\""
   ]
  },
  {
   "cell_type": "code",
   "execution_count": 26,
   "id": "8e1f601b-2eaf-499d-b6b8-c99050c9d6b3",
   "metadata": {},
   "outputs": [],
   "source": [
    "def get_links_user_prompt(website):\n",
    "    user_prompt = f\"Aquí hay una lista de enlaces de la página web {website.url} - \"\n",
    "    user_prompt += \"Por favor, decide cuáles de estos son enlaces web relevantes para un folleto de Marketing sobre la solución Siigo Nube. Responde con la URL https completa en formato JSON. \\\n",
    "No incluyas Términos y Condiciones, Privacidad ni enlaces de correo electrónico, otros países, Distribuidores, ni paginas duplicadas.\\n\"\n",
    "    user_prompt += \"Sólo incluye los links del dominio aspel.com.mx\\n\"\n",
    "    user_prompt += \"Links (puede que algunos sean links relativos):\\n\"\n",
    "    user_prompt += \"\\n\".join(website.links)\n",
    "    return user_prompt"
   ]
  },
  {
   "cell_type": "code",
   "execution_count": 27,
   "id": "a29aca19-ca13-471c-a4b4-5abbfa813f69",
   "metadata": {},
   "outputs": [],
   "source": [
    "def get_links(url):\n",
    "    website = Website(url)\n",
    "    response = openai.chat.completions.create(\n",
    "        model=MODEL,\n",
    "        messages=[\n",
    "            {\"role\": \"system\", \"content\": link_system_prompt},\n",
    "            {\"role\": \"user\", \"content\": get_links_user_prompt(website)}\n",
    "      ],\n",
    "        response_format={\"type\": \"json_object\"}\n",
    "    )\n",
    "    result = response.choices[0].message.content\n",
    "    return json.loads(result)"
   ]
  },
  {
   "cell_type": "markdown",
   "id": "0d74128e-dfb6-47ec-9549-288b621c838c",
   "metadata": {},
   "source": [
    "## Segundo paso: ¡crea el folleto!\n",
    "\n",
    "Reúne todos los detalles en otro mensaje para GPT4-o"
   ]
  },
  {
   "cell_type": "code",
   "execution_count": 28,
   "id": "85a5b6e2-e7ef-44a9-bc7f-59ede71037b5",
   "metadata": {},
   "outputs": [],
   "source": [
    "def get_all_details(url):\n",
    "    result = \"Landing page:\\n\"\n",
    "    result += Website(url).get_contents()\n",
    "    links = get_links(url)\n",
    "    print(\"Links encontrados:\", links)\n",
    "    for link in links[\"links\"]:\n",
    "        result += f\"\\n\\n{link['type']}\\n\"\n",
    "        result += Website(link[\"url\"]).get_contents()\n",
    "    return result"
   ]
  },
  {
   "cell_type": "code",
   "execution_count": 29,
   "id": "408091fb-3e61-4138-8d41-f216a82acd44",
   "metadata": {},
   "outputs": [],
   "source": [
    "system_prompt = \"Eres un asistente que analiza el contenido de varias páginas relevantes del sitio web de una empresa\\\n",
    "y crea un folleto breve de Marketing de alto impacto para obtener nuevos clientes sobre la solución Siigo Nube.\\\n",
    "Incluye detalles sobre los beneficios, a quien va dirigido, los precios de los planes.\"\n"
   ]
  },
  {
   "cell_type": "code",
   "execution_count": 30,
   "id": "6ab83d92-d36b-4ce0-8bcc-5bb4c2f8ff23",
   "metadata": {},
   "outputs": [],
   "source": [
    "def get_brochure_user_prompt(company_name, url):\n",
    "    user_prompt = f\"Estás mirando una empresa llamada: {company_name}\\n\"\n",
    "    user_prompt += f\"Aquí se encuentra el contenido de su página de inicio y otras páginas relevantes; usa esta información para crear un breve folleto de Marketing de la solución Siigo Nube en Markdown.\\n\"\n",
    "    user_prompt += get_all_details(url)\n",
    "    user_prompt = user_prompt[:20_000] # Truncar si tiene más de 20.000 caracteres\n",
    "    return user_prompt"
   ]
  },
  {
   "cell_type": "code",
   "execution_count": 31,
   "id": "e44de579-4a1a-4e6a-a510-20ea3e4b8d46",
   "metadata": {},
   "outputs": [],
   "source": [
    "def create_brochure(company_name, url):\n",
    "    response = openai.chat.completions.create(\n",
    "        model=MODEL,\n",
    "        messages=[\n",
    "            {\"role\": \"system\", \"content\": system_prompt},\n",
    "            {\"role\": \"user\", \"content\": get_brochure_user_prompt(company_name, url)}\n",
    "          ],\n",
    "    )\n",
    "    result = response.choices[0].message.content\n",
    "    display(Markdown(result))"
   ]
  },
  {
   "cell_type": "code",
   "execution_count": 32,
   "id": "e093444a-9407-42ae-924a-145730591a39",
   "metadata": {},
   "outputs": [
    {
     "name": "stdout",
     "output_type": "stream",
     "text": [
      "Links encontrados: {'links': [{'type': 'Página de la solución', 'url': 'https://www.aspel.com.mx/sistema-administrativo-en-la-nube'}, {'type': 'Beneficios del sistema administrativo', 'url': 'https://www.aspel.com.mx/sae?pag=beneficios'}, {'type': 'Beneficios del administrativo COI', 'url': 'https://www.aspel.com.mx/coi?pag=beneficios'}, {'type': 'Beneficios del administrativo NOI', 'url': 'https://www.aspel.com.mx/noi?pag=beneficios'}, {'type': 'Beneficios de Facturación en la Nube', 'url': 'https://www.aspel.com.mx/facturacion-nube'}, {'type': 'Lista de precios', 'url': 'https://www.aspel.com.mx/lista-precios'}, {'type': 'Prueba gratis SAE', 'url': 'https://www.aspel.com.mx/prueba-gratis-sae'}, {'type': 'Prueba gratis COI', 'url': 'https://www.aspel.com.mx/prueba-gratis-coi'}, {'type': 'Prueba gratis NOI', 'url': 'https://www.aspel.com.mx/prueba-gratis-noi'}, {'type': 'Prueba gratis Caja', 'url': 'https://www.aspel.com.mx/prueba-gratis-caja'}, {'type': 'Prueba gratis Facture', 'url': 'https://www.aspel.com.mx/prueba-gratis-facture'}, {'type': 'Prueba gratis Banco', 'url': 'https://www.aspel.com.mx/prueba-gratis-banco'}, {'type': 'Prueba gratis Prod', 'url': 'https://www.aspel.com.mx/prueba-gratis-prod'}, {'type': 'Demo gratuita gestión nube', 'url': 'https://www.aspel.com.mx/demo-gratis-nube-gestion'}, {'type': 'Certificación de Distribuidor', 'url': 'https://www.aspel.com.mx/certificacion-distribuidor'}, {'type': 'Blog sobre tecnología e innovación', 'url': 'https://www.aspel.com.mx/blog/tecnologia-innovacion/software-en-la-nube-ventajas-beneficios'}, {'type': 'Soporte en línea', 'url': 'https://www.aspel.com.mx/soporte/soporte-en-linea.html'}]}\n"
     ]
    },
    {
     "data": {
      "text/markdown": [
       "```markdown\n",
       "# 🌟 ¡Descubre Siigo Nube de Aspel! 🌟\n",
       "\n",
       "### El ERP en la Nube clave para el futuro de tu negocio\n",
       "\n",
       "**Siigo Nube Gestión** es un sistema administrativo que transforma la manera de operar pequeñas y medianas empresas (pymes), ofreciendo una solución integral para la administración y contabilidad en la Nube.\n",
       "\n",
       "---\n",
       "\n",
       "## 🚀 **Beneficios de Siigo Nube:**\n",
       "\n",
       "- **Visión Completa del Negocio:** Accede a un panorama de ventas, compras, inventarios y cobranza en tiempo real para tomar decisiones estratégicas.\n",
       "  \n",
       "- **Colaboración Efectiva:** Facilita el trabajo conjunto con contadores, centralizando la información en una plataforma segura.\n",
       "  \n",
       "- **Relación con Clientes:** Identifica a tus clientes clave y sus necesidades, mejorando la lealtad comercial.\n",
       "  \n",
       "- **Cumplimiento Normativo:** Mantente al día con las regulaciones del SAT, gracias a actualizaciones automáticas del sistema.\n",
       "  \n",
       "- **Fácil de Usar:** Interfaz intuitiva que no requiere ser un experto para navegar y obtener información clave.\n",
       "\n",
       "---\n",
       "\n",
       "## 🎯 **¿A quién va dirigido?**\n",
       "\n",
       "- **Emprendedores y PYMES** que buscan controlar su negocio de manera eficiente.\n",
       "  \n",
       "- **Contadores y Despachos Contables** que desean optimizar el trabajo colaborativo con sus clientes.\n",
       "\n",
       "- **Sectores específicos** como consultorios dentales, servicios de belleza y más.\n",
       "\n",
       "---\n",
       "\n",
       "## 💰 **Planes y Precios:**\n",
       "\n",
       "1. **Siigo Nube Gestión Inicial**\n",
       "   - **Precio:** $367 / mes o $3,199.20 / año (20% de descuento) \n",
       "   - **Características:**\n",
       "     - 2 usuarios\n",
       "     - 1 Almacén\n",
       "     - Timbrado ilimitado\n",
       "     - Reportes y más.\n",
       "\n",
       "2. **Siigo Nube Gestión Avanzado**\n",
       "   - **Precio:** $510 / mes o $4,447.20 / año (20% de descuento)\n",
       "   - **Características:**\n",
       "     - Todo en el plan inicial más integración más mejoras en los reportes.\n",
       "\n",
       "3. **Siigo Nube Gestión Premium**\n",
       "   - **Precio:** $878 / mes o $7,663.20 / año (20% de descuento)\n",
       "   - **Características:**\n",
       "     - 3 usuarios\n",
       "     - Almacenes ilimitados\n",
       "     - Todas las funciones avanzadas.\n",
       "\n",
       "*Todos los precios son sin IVA.*\n",
       "\n",
       "---\n",
       "\n",
       "## 📞 **Contacta a nuestras Ventas:**\n",
       "- 📞 **Teléfono:** (+52) 834 358 001\n",
       "- 🕐 **Horario de Atención:** Lunes a viernes de 9am a 6pm\n",
       "\n",
       "---\n",
       "\n",
       "## 🚀 **¡Prueba gratis y conoce más!**\n",
       "Visita nuestro sitio o contacta a un asesor para obtener una demostración gratuita y explore cómo Siigo Nube puede llevar tu gestión administrativa al siguiente nivel.\n",
       "\n",
       "---\n",
       "\n",
       "### **Aspel - Simplificando tu gestión empresarial en la Nube.**\n",
       "```"
      ],
      "text/plain": [
       "<IPython.core.display.Markdown object>"
      ]
     },
     "metadata": {},
     "output_type": "display_data"
    }
   ],
   "source": [
    "create_brochure(\"Aspel\", \"https://www.aspel.com.mx/sistema-administrativo-en-la-nube\")"
   ]
  },
  {
   "cell_type": "code",
   "execution_count": null,
   "id": "22e878f1-08fe-4465-b50c-869352174eae",
   "metadata": {},
   "outputs": [],
   "source": []
  }
 ],
 "metadata": {
  "kernelspec": {
   "display_name": "Python 3 (ipykernel)",
   "language": "python",
   "name": "python3"
  },
  "language_info": {
   "codemirror_mode": {
    "name": "ipython",
    "version": 3
   },
   "file_extension": ".py",
   "mimetype": "text/x-python",
   "name": "python",
   "nbconvert_exporter": "python",
   "pygments_lexer": "ipython3",
   "version": "3.11.11"
  }
 },
 "nbformat": 4,
 "nbformat_minor": 5
}
