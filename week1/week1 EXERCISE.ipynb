{
 "cells": [
  {
   "cell_type": "markdown",
   "id": "fe12c203-e6a6-452c-a655-afb8a03a4ff5",
   "metadata": {},
   "source": [
    "# Ejercicio final de la semana 1\n",
    "\n",
    "Para demostrar que estás familiarizado con la API de OpenAI y también con Ollama, crea una herramienta que responda a una pregunta técnica\n",
    "y la explique. ¡Esta es una herramienta que podrás usar durante el curso!"
   ]
  },
  {
   "cell_type": "code",
   "execution_count": 8,
   "id": "c1070317-3ed9-4659-abe3-828943230e03",
   "metadata": {},
   "outputs": [],
   "source": [
    "# imports\n",
    "from IPython.display import Markdown, display, update_display\n",
    "from openai import OpenAI\n",
    "from dotenv import load_dotenv\n",
    "import os\n",
    "\n",
    "# constantes\n",
    "\n",
    "MODEL_GPT = 'gpt-4o-mini'\n",
    "MODEL_LLAMA = 'llama3.2'\n",
    "openai = OpenAI()\n",
    "\n",
    "# Configura el entorno\n",
    "# Cargamos las variables del fichero .env\n",
    "load_dotenv()\n",
    "api_key = os.getenv('OPENAI_API_KEY')\n",
    "\n",
    "system_prompt=\"Eres un experto programador en Python 3.12 y vas a responderme todas las dudas que tenga con respcecto \\\n",
    "a fragmentos de código que te de, así como explicarme el código en cuestión. \\\n",
    "tambien me explicaras terminos que no entienda de la programación\"\n",
    "\n",
    "def obtain_user_prompt():\n",
    "    user_question = [] \n",
    "    line = input(\"Introduce un prompt que termine con una línea vacía: \")\n",
    "    while line:\n",
    "        user_question.append(line)\n",
    "        line = input() \n",
    "\n",
    "    user_question = \"\\n\".join(user_question)\n",
    "    return user_question\n",
    "\n",
    "\n",
    "# Haz que gpt-4o-mini responda, con streaming\n",
    "def stream_response():\n",
    "    stream = openai.chat.completions.create(\n",
    "        model=MODEL_GPT,\n",
    "        messages=[\n",
    "            {\"role\": \"system\", \"content\": system_prompt},\n",
    "            {\"role\": \"user\", \"content\": obtain_user_prompt()}\n",
    "          ],\n",
    "        stream=True\n",
    "    )\n",
    "    \n",
    "    response = \"\"\n",
    "    display_handle = display(Markdown(\"\"), display_id=True)\n",
    "    for chunk in stream:\n",
    "        response += chunk.choices[0].delta.content or ''\n",
    "        response = response.replace(\"```\",\"\").replace(\"markdown\", \"\")\n",
    "        update_display(Markdown(response), display_id=display_handle.display_id)\n"
   ]
  },
  {
   "cell_type": "code",
   "execution_count": 9,
   "id": "e0dc1c82-617d-49b5-860e-1ecd585f6f3b",
   "metadata": {},
   "outputs": [
    {
     "name": "stdin",
     "output_type": "stream",
     "text": [
      "Introduce un prompt que termine con una línea vacía:  Explica qué hace este código y por qué:\n",
      " yield from {book.get(\"author\") for book in books if book.get(\"author\")}\n",
      " \n"
     ]
    },
    {
     "data": {
      "text/markdown": [
       "Este fragmento de código utiliza **`yield from`** en combinación con una **comprensión de conjunto** (set comprehension) para generar una secuencia de valores. Vamos a desglosar el código por partes:\n",
       "\n",
       "1. **Comprensión de conjunto**: \n",
       "   python\n",
       "   {book.get(\"author\") for book in books if book.get(\"author\")}\n",
       "   \n",
       "   - Aquí, se está creando un conjunto que incluye los autores de los libros almacenados en la variable `books`.\n",
       "   - `books` se espera que sea una lista (o cualquier iterable) de diccionarios, donde cada diccionario representa un libro y tiene, al menos, la clave `\"author\"`.\n",
       "   - `book.get(\"author\")` intenta obtener el valor asociado con la clave `\"author\"` de cada diccionario (libro). El método `get()` devuelve `None` si la clave no está presente.\n",
       "   - La expresión `if book.get(\"author\")` se usa como un filtro para incluir solo aquellos libros que tienen un autor definido. Por lo tanto, solo se incluirán los valores de autor que no sean `None` o que no estén vacíos.\n",
       "\n",
       "2. **`yield from`**:\n",
       "   python\n",
       "   yield from { ... }\n",
       "   \n",
       "   - La palabra clave `yield` se utiliza dentro de una **función generadora** para devolver un valor y pausar la ejecución de la función, permitiendo reanudarla más tarde. La palabra clave `from` se utiliza aquí para delegar en otro generador iterable.\n",
       "   - `yield from` permite que la función generadora produzca todos los valores de un iterable (en este caso, el conjunto de autores) uno por uno.\n",
       "   - En este contexto específico, `yield from` toma cada autor del conjunto creado y lo devuelve como resultado de la función generadora que contiene este código.\n",
       "\n",
       "### Resumen:\n",
       "Este código está diseñado para devolver, uno a uno, todos los autores de los libros en la lista `books`, pero solo aquellos que tienen un autor especificado. Utiliza un conjunto (`{ ... }`) para asegurarse de que los autores devueltos sean únicos (sin duplicados).\n",
       "\n",
       "Si en el caso de que el conjunto de libros `books` contiene libros con diferentes autores, este fragmento de código te permitirá iterar sobre la lista de autores únicos de manera eficiente y limpia."
      ],
      "text/plain": [
       "<IPython.core.display.Markdown object>"
      ]
     },
     "metadata": {},
     "output_type": "display_data"
    }
   ],
   "source": [
    "stream_response()"
   ]
  },
  {
   "cell_type": "code",
   "execution_count": null,
   "id": "3f0d0137-52b0-47a8-81a8-11a90a010798",
   "metadata": {},
   "outputs": [],
   "source": [
    "# Aquí está la pregunta; escribe sobre esto para preguntar algo nuevo\n",
    "\n",
    "question = \"\"\"\n",
    "Explica qué hace este código y por qué:\n",
    "yield from {book.get(\"author\") for book in books if book.get(\"author\")}\n",
    "\"\"\""
   ]
  },
  {
   "cell_type": "code",
   "execution_count": 11,
   "id": "8f7c8ea8-4082-4ad0-8751-3301adcf6538",
   "metadata": {},
   "outputs": [],
   "source": [
    "# imports\n",
    "from IPython.display import Markdown, display, update_display\n",
    "import requests\n",
    "\n",
    "# constantes\n",
    "\n",
    "MODEL_LLAMA = 'llama3.2'\n",
    "OLLAMA_API = \"http://localhost:11434/api/chat\"\n",
    "HEADERS = {\"Content-Type\": \"application/json\"}\n",
    "\n",
    "\n",
    "def obtain_user_prompt():\n",
    "    user_question = [] \n",
    "    line = input(\"Introduce un prompt que termine con una línea vacía: \")\n",
    "    while line:\n",
    "        user_question.append(line)\n",
    "        line = input() \n",
    "\n",
    "    user_question = \"\\n\".join(user_question)\n",
    "    return user_question\n",
    "\n",
    "\n",
    "# Haz que Llama 3.2 responda\n",
    "def llama_tutor():\n",
    "\n",
    "    messages=[{\"role\": \"user\", \"content\": obtain_user_prompt()}]\n",
    "    payload = {\n",
    "        \"model\": MODEL_LLAMA,\n",
    "        \"messages\": messages,\n",
    "        \"stream\": False\n",
    "    }\n",
    "    \n",
    "    response = requests.post(OLLAMA_API, json=payload, headers=HEADERS)\n",
    "    print(response.json()['message']['content'])"
   ]
  },
  {
   "cell_type": "code",
   "execution_count": 12,
   "id": "2c5fde55-ed89-4885-bffb-94a8f6f78a37",
   "metadata": {},
   "outputs": [
    {
     "name": "stdin",
     "output_type": "stream",
     "text": [
      "Introduce un prompt que termine con una línea vacía:  Explica qué hace este código y por qué:\n",
      " yield from {book.get(\"author\") for book in books if book.get(\"author\")}\n",
      " \n"
     ]
    },
    {
     "name": "stdout",
     "output_type": "stream",
     "text": [
      "**Análisis del Código**\n",
      "\n",
      "El código proporcionado utiliza una técnica común en Python llamada \"generador\" (en inglés, \"generator\"). Un generador es un objeto que permite iterar sobre una secuencia de valores sin tener que almacenarlos todos en memoria a la vez.\n",
      "\n",
      "```python\n",
      "yield from {book.get(\"author\") for book in books if book.get(\"author\")}\n",
      "```\n",
      "\n",
      "**Cómo funciona el código**\n",
      "\n",
      "Aquí hay una explicación detallada de cómo funciona:\n",
      "\n",
      "1. **Definición del generador**: `yield from` es un operador que permite pasar el resultado de una secuencia (en este caso, un dict en forma de conjunto) a otro.\n",
      "2. **Generación del conjunto**: El conjunto `{book.get(\"author\") for book in books if book.get(\"author\")}` se genera utilizando la sintaxis de listas generativas (`[]` y `for`). En esta secuencia:\n",
      " * `for book in books`: Itera sobre cada libro en la lista `books`.\n",
      " * `if book.get(\"author\")`: Filtera los libros que tengan una clave `\"author\"` existente.\n",
      " * `book.get(\"author\")`: Extrae el valor asociado a la clave `\"author\"` para cada libro.\n",
      "3. **Uso de `yield from`**: El operador `yield from` pasa la secuencia generada al generador, permitiéndolo producir los valores uno por uno.\n",
      "\n",
      "**Por qué funciona así**\n",
      "\n",
      "El uso del generador aquí tiene como objetivo evitar el almacenamiento en memoria de todos los libros que no tienen una clave `\"author\"`. Al utilizar un generador, se permite generar solo los valores necesarios (los libros con una clave `\"author\"` existente), evitando la creación de una lista o conjunto con todos los datos.\n",
      "\n",
      "**Ventajas del uso de generadores**\n",
      "\n",
      "1. **Mantener el espacio en memoria bajo control**: Se evita almacenar todos los datos en memoria, lo que puede ser beneficioso para grandes conjuntos de datos.\n",
      "2. **Flexibilidad**: Los generadores pueden ser utilizados con diferentes estructuras de datos y algoritmos.\n",
      "\n",
      "**Conclusión**\n",
      "\n",
      "En resumen, el código utiliza un generador para generar solo los valores necesarios (los libros con una clave `\"author\"` existente) sin tener que almacenar todos los datos en memoria. Esto mejora la eficiencia y reducir el consumo de espacio en memoria.\n"
     ]
    }
   ],
   "source": [
    "llama_tutor()"
   ]
  },
  {
   "cell_type": "code",
   "execution_count": null,
   "id": "46096b84-4863-48bc-bbae-ab7eee600fe5",
   "metadata": {},
   "outputs": [],
   "source": []
  }
 ],
 "metadata": {
  "kernelspec": {
   "display_name": "Python 3 (ipykernel)",
   "language": "python",
   "name": "python3"
  },
  "language_info": {
   "codemirror_mode": {
    "name": "ipython",
    "version": 3
   },
   "file_extension": ".py",
   "mimetype": "text/x-python",
   "name": "python",
   "nbconvert_exporter": "python",
   "pygments_lexer": "ipython3",
   "version": "3.11.11"
  }
 },
 "nbformat": 4,
 "nbformat_minor": 5
}
