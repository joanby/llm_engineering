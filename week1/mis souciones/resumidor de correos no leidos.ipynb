{
 "cells": [
  {
   "cell_type": "markdown",
   "id": "1a3fbdf6-6b06-43a6-881e-9950c8e6ae16",
   "metadata": {},
   "source": [
    "Este notebook sirve para resumir los correos de una cuenta de Gmail que no han sido leídos.\n",
    "Para ello se requiere crear una cuenta en la Consola de Google Cloud con el mismo correo que se va a ocupar para resumir los correos.\n",
    "Se crea un nuevo proyecto en la Consola y se habilita la API de Gmail.\n",
    "Posteriormente se crean unas credenciales OAuth 2.0 y se guradan las credenciales descargando el archivo credentials.json\n",
    "Este archivo se guarda en la carpeta raiz del proyecto\n",
    "Luego se instalan las librerías necesarias usando el siguiente comando:\n",
    "pip install google-auth google-auth-oauthlib google-auth-httplib2 google-api-python-client"
   ]
  },
  {
   "cell_type": "code",
   "execution_count": 14,
   "id": "4e2a9393-7767-488e-a8bf-27c12dca35bd",
   "metadata": {},
   "outputs": [],
   "source": [
    "# imports\n",
    "\n",
    "import base64\n",
    "import os\n",
    "\n",
    "from bs4 import BeautifulSoup\n",
    "from dotenv import load_dotenv\n",
    "from google.auth.transport.requests import Request\n",
    "from google.oauth2.credentials import Credentials\n",
    "from google_auth_oauthlib.flow import InstalledAppFlow\n",
    "from googleapiclient.discovery import build\n",
    "from IPython.display import Markdown, display\n",
    "from openai import OpenAI"
   ]
  },
  {
   "cell_type": "code",
   "execution_count": 15,
   "id": "7b87cadb-d513-4303-baee-a37b6f938e4d",
   "metadata": {},
   "outputs": [
    {
     "name": "stdout",
     "output_type": "stream",
     "text": [
      "¡Se encontró la clave API y hasta ahora parece buena!\n"
     ]
    }
   ],
   "source": [
    "# Alcances necesarios para acceder a los correos\n",
    "SCOPES = [\"https://www.googleapis.com/auth/gmail.modify\"]\n",
    "\n",
    "# Cargamos las variables del fichero .env\n",
    "load_dotenv()\n",
    "api_key = os.getenv('OPENAI_API_KEY')\n",
    "email_account = os.getenv(\"EMAIL\")\n",
    "# Check the key\n",
    "\n",
    "if not api_key:\n",
    "    print(\"No se encontró ninguna clave API: diríjase al cuaderno de resolución de problemas en esta carpeta para identificarla y solucionarla.\")\n",
    "elif not api_key.startswith(\"sk-proj-\"):\n",
    "    print(\"Se encontró una clave API, pero no inicia sk-proj-; verifique que esté usando la clave correcta; consulte el cuaderno de resolución de problemas\")\n",
    "elif api_key.strip() != api_key:\n",
    "    print(\"Se encontró una clave API, pero parece que puede tener espacios o caracteres de tabulación al principio o al final; elimínelos; consulte el cuaderno de resolución de problemas\")\n",
    "else:\n",
    "    print(\"¡Se encontró la clave API y hasta ahora parece buena!\")\n"
   ]
  },
  {
   "cell_type": "code",
   "execution_count": 16,
   "id": "019974d9-f3ad-4a8a-b5f9-0a3719aea2d3",
   "metadata": {},
   "outputs": [],
   "source": [
    "openai = OpenAI()\n",
    "\n",
    "# Si esto no funciona, prueba con el menú Kernel >> Reiniciar Kernel y borrar las salidas de todas las celdas, luego ejecuta las celdas desde la parte superior de este cuaderno hacia abajo.\n",
    "# Si TODAVÍA no funciona (¡qué horror!), consulta el cuaderno de resolución de problemas o prueba la siguiente línea:\n",
    "# openai = OpenAI(api_key=\"your-key-here-starting-sk-proj-\")"
   ]
  },
  {
   "cell_type": "code",
   "execution_count": 17,
   "id": "466eb899-1832-4444-ab2b-66415d1ba89f",
   "metadata": {},
   "outputs": [],
   "source": [
    "def authenticate_gmail():\n",
    "    \"\"\"Autentica al usuario con la API de Gmail y devuelve el servicio.\"\"\"\n",
    "    creds = None\n",
    "    # Archivo token.json almacena las credenciales de acceso\n",
    "    if os.path.exists(\"token.json\"):\n",
    "        creds = Credentials.from_authorized_user_file(\"token.json\", SCOPES)\n",
    "    # Si no hay credenciales válidas, inicia el flujo de autenticación\n",
    "    if not creds or not creds.valid:\n",
    "        if creds and creds.expired and creds.refresh_token:\n",
    "            creds.refresh(Request())\n",
    "        else:\n",
    "            flow = InstalledAppFlow.from_client_secrets_file(\"credentials.json\", SCOPES)\n",
    "            creds = flow.run_local_server(port=0)\n",
    "        # Guarda las credenciales para el futuro\n",
    "        with open(\"token.json\", \"w\") as token:\n",
    "            token.write(creds.to_json())\n",
    "    return build(\"gmail\", \"v1\", credentials=creds)"
   ]
  },
  {
   "cell_type": "code",
   "execution_count": 18,
   "id": "8f619d76-fc4e-49d0-b250-847260fbade4",
   "metadata": {},
   "outputs": [],
   "source": [
    "def get_unread_emails(service):\n",
    "    \"\"\"Obtiene todos los correos no leídos.\"\"\"\n",
    "    results = (\n",
    "        service.users()\n",
    "        .messages()\n",
    "        .list(userId=\"me\", labelIds=[\"INBOX\"], q=\"is:unread\")\n",
    "        .execute()\n",
    "    )\n",
    "    messages = results.get(\"messages\", [])\n",
    "\n",
    "    email_content = []\n",
    "\n",
    "    if not messages:\n",
    "        print(\"No hay correos no leídos.\")\n",
    "        return None\n",
    "\n",
    "    for message in messages:\n",
    "        msg = service.users().messages().get(userId=\"me\", id=message[\"id\"]).execute()\n",
    "        payload = msg.get(\"payload\", {})\n",
    "        headers = payload.get(\"headers\", [])\n",
    "        subject = next(\n",
    "            (header[\"value\"] for header in headers if header[\"name\"] == \"Subject\"),\n",
    "            \"Sin asunto\",\n",
    "        )\n",
    "        body = \"\"\n",
    "\n",
    "        # Intenta obtener el contenido del mensaje\n",
    "        if \"parts\" in payload:\n",
    "            for part in payload[\"parts\"]:\n",
    "                if part[\"mimeType\"] == \"text/plain\":\n",
    "                    data = part[\"body\"].get(\"data\")\n",
    "                    if data:\n",
    "                        body = base64.urlsafe_b64decode(data).decode()\n",
    "                        break\n",
    "        elif \"body\" in payload:\n",
    "            data = payload[\"body\"].get(\"data\")\n",
    "            if data:\n",
    "                body = base64.urlsafe_b64decode(data).decode()\n",
    "\n",
    "        email_content.append(f\"Asunto: {subject}\\n\\n{body}\")\n",
    "\n",
    "        # Marca el mensaje como leído (opcional)\n",
    "        service.users().messages().modify(\n",
    "            userId=\"me\", id=message[\"id\"], body={\"removeLabelIds\": [\"UNREAD\"]}\n",
    "        ).execute()\n",
    "\n",
    "    return \"\\n\\n\".join(email_content)"
   ]
  },
  {
   "cell_type": "code",
   "execution_count": 19,
   "id": "32f396c1-86cc-4648-bbf0-124906e17491",
   "metadata": {},
   "outputs": [],
   "source": [
    "# Define nuestro mensaje de sistema:\n",
    "\n",
    "system_prompt = \"Eres un asistente que analiza el contenido del correo electrónico \\\n",
    "y proporciona un breve resumen, ignorando el texto que podría estar relacionado con la navegación. \\\n",
    "Responder en Markdown.\""
   ]
  },
  {
   "cell_type": "code",
   "execution_count": 20,
   "id": "005fe3eb-2a95-40f9-837b-dad3f0f0a438",
   "metadata": {},
   "outputs": [],
   "source": [
    "def user_prompt_for(account_email):\n",
    "    user_prompt = f\"Estás viendo el correo electrónico no leido de la cuenta {account_email.title}\"\n",
    "    user_prompt += \"\\nEl contenido de estos correos es el siguiente; \\\n",
    "    proporciona un breve resumen de los correos en formato Markdown. \\\n",
    "    si el correo está en ingles haces el resumen en español \\\n",
    "    Si incluye noticias, productos o anuncios, resúmelos también.\\n\\n\"\n",
    "    user_prompt += account_email.text\n",
    "    return user_prompt"
   ]
  },
  {
   "cell_type": "code",
   "execution_count": 21,
   "id": "753255aa-fa6a-4fe3-9756-2ad8fc504a3c",
   "metadata": {},
   "outputs": [],
   "source": [
    "def messages_for(account_email):\n",
    "    return [\n",
    "        {\"role\": \"system\", \"content\": system_prompt},\n",
    "        {\"role\": \"user\", \"content\": user_prompt_for(account_email)},\n",
    "    ]"
   ]
  },
  {
   "cell_type": "code",
   "execution_count": 22,
   "id": "0c7a7f62-dc12-4fdc-932d-273174f2d538",
   "metadata": {},
   "outputs": [],
   "source": [
    "def summarize(email: str):\n",
    "    my_email = EmailAccount(email)\n",
    "    response = openai.chat.completions.create(\n",
    "        model=\"gpt-4o-mini\", messages=messages_for(my_email)\n",
    "    )\n",
    "    return response.choices[0].message.content"
   ]
  },
  {
   "cell_type": "code",
   "execution_count": 23,
   "id": "d5492273-6ff7-4173-b91f-950f887985fe",
   "metadata": {},
   "outputs": [],
   "source": [
    "def display_summary(email: str):\n",
    "    summary = summarize(email)\n",
    "    # print(summary)\n",
    "    display(Markdown(summary))"
   ]
  },
  {
   "cell_type": "code",
   "execution_count": 24,
   "id": "c5e793b2-6775-426a-a139-4848291d0463",
   "metadata": {},
   "outputs": [],
   "source": [
    "\n",
    "class EmailAccount:\n",
    "    \"\"\"\n",
    "    Una clase de utilidad para representar una cuenta de correo electrónico.\n",
    "    \"\"\"\n",
    "\n",
    "    def __init__(self, email):\n",
    "        \"\"\"\n",
    "        Crea este objeto de correo utilizando la biblioteca BeautifulSoup\n",
    "        \"\"\"\n",
    "        service = authenticate_gmail()\n",
    "        unread_emails = get_unread_emails(service)\n",
    "\n",
    "        if unread_emails:\n",
    "            soup = BeautifulSoup(unread_emails, \"html.parser\")\n",
    "            self.title = f\"Mensajes no leídos del correo: {email}\"\n",
    "\n",
    "            # Verifica si existe la etiqueta <body> antes de intentar limpiar elementos\n",
    "            if soup.body:\n",
    "                for irrelevant in soup.body.find_all(\n",
    "                    [\"script\", \"style\", \"img\", \"input\"]\n",
    "                ):\n",
    "                    irrelevant.decompose()\n",
    "                self.text = soup.body.get_text(separator=\"\\n\", strip=True)\n",
    "            else:\n",
    "                # Si no hay <body>, usa el texto directamente\n",
    "                self.text = soup.get_text(separator=\"\\n\", strip=True)\n",
    "        else:\n",
    "            self.text = \"\"\n",
    "            self.title = f\"No hay mensajes no leídos en la cuenta: {email}\""
   ]
  },
  {
   "cell_type": "code",
   "execution_count": 25,
   "id": "682eff74-55c4-4d4b-b267-703edbc293c7",
   "metadata": {},
   "outputs": [
    {
     "name": "stdout",
     "output_type": "stream",
     "text": [
      "Please visit this URL to authorize this application: https://accounts.google.com/o/oauth2/auth?response_type=code&client_id=427941571458-vi9ns96os8273vk2omijg1rft2rf6opv.apps.googleusercontent.com&redirect_uri=http%3A%2F%2Flocalhost%3A59171%2F&scope=https%3A%2F%2Fwww.googleapis.com%2Fauth%2Fgmail.modify&state=vxjpJSsraSsSd0siWS2WQPmyzeHQXx&access_type=offline\n"
     ]
    },
    {
     "data": {
      "text/markdown": [
       "## Resumen de Correos Electrónicos\n",
       "\n",
       "### 1. **Asunto: 3 ways to make AI work for you (not against you)**\n",
       "   - Se presentan tres cursos destacados y dos proyectos prácticos para mejorar habilidades en inteligencia artificial (IA), enfocados en:\n",
       "     1. **Construcción de Agentes de IA**: Aprender a diseñar y gestionar sistemas de múltiples agentes.\n",
       "     2. **Manual de IA Generativa**: Fundamentos sobre modelos de lenguaje (LLM) y cómo construir chatbots y aplicaciones multimodales.\n",
       "     3. **Aprendizaje Automático con Herramientas Comunes**: Aprendizaje práctico usando frameworks como NumPy y TensorFlow.\n",
       "   - **Proyectos destacados**:\n",
       "     - **Clasificación de Sarcasmo** usando BERT.\n",
       "     - **Generación de Música** con Inteligencia Artificial.\n",
       "   - Además, se mencionan un nuevo curso sobre Azure Data Factory y un blog sobre preguntas comunes en entrevistas de IA.\n",
       "\n",
       "### 2. **Asunto: Si no encuentras trabajo, te devolvemos tu dinero🤑**\n",
       "   - Anuncio del **Programa de Aceleración Laboral en Ventas** que incluye formación intensiva, mentorías personalizadas y garantía de empleo. El programa está diseñado para capitalizar oportunidades laborales en ventas en LATAM.\n",
       "\n",
       "### 3. **Asunto: What makes AI an essential tool for developers?**\n",
       "   - Tabnine, una herramienta de IA para desarrollo, ha sido nominada como finalista en los **Tech Innovation CUBEd Awards**.\n",
       "   - Destacan nuevas características, como la verificación de código para prevenir infracciones de propiedad intelectual.\n",
       "   - Se anuncian sesiones en vivo para aprender sobre el uso adecuado de herramientas de IA.\n",
       "\n",
       "### 4. **Asunto: Save 50% + 5% until Jan 31.**\n",
       "   - Oferta de descuento del **50% + 5% adicional** en cursos de Educative, válida hasta finales de enero. Se anima a los usuarios a aprovechar las oportunidades de aprendizaje en una variedad de temas técnicos.\n",
       "\n",
       "--- \n",
       "\n",
       "Estos resúmenes facilitan una visión clara y rápida de los contenidos y ofertas relevantes en los correos electrónicos no leídos."
      ],
      "text/plain": [
       "<IPython.core.display.Markdown object>"
      ]
     },
     "metadata": {},
     "output_type": "display_data"
    }
   ],
   "source": [
    "display_summary(email_account)"
   ]
  },
  {
   "cell_type": "code",
   "execution_count": null,
   "id": "81a68694-f70d-4295-9d5b-88333d3f3293",
   "metadata": {},
   "outputs": [],
   "source": []
  }
 ],
 "metadata": {
  "kernelspec": {
   "display_name": "Python 3 (ipykernel)",
   "language": "python",
   "name": "python3"
  },
  "language_info": {
   "codemirror_mode": {
    "name": "ipython",
    "version": 3
   },
   "file_extension": ".py",
   "mimetype": "text/x-python",
   "name": "python",
   "nbconvert_exporter": "python",
   "pygments_lexer": "ipython3",
   "version": "3.11.11"
  }
 },
 "nbformat": 4,
 "nbformat_minor": 5
}
